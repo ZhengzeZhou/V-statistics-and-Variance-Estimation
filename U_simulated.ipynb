{
 "cells": [
  {
   "cell_type": "code",
   "execution_count": 3,
   "metadata": {},
   "outputs": [],
   "source": [
    "import sys\n",
    "sys.path\n",
    "sys.path.insert(0, '/Users/zhengzezhou/scikit-learn')"
   ]
  },
  {
   "cell_type": "code",
   "execution_count": 4,
   "metadata": {},
   "outputs": [],
   "source": [
    "import numpy as np\n",
    "from sklearn.ensemble import RandomForestClassifier\n",
    "from sklearn.ensemble import RandomForestRegressor\n",
    "from matplotlib import pyplot\n",
    "from statsmodels.graphics.gofplots import qqplot\n",
    "from scipy import stats\n",
    "from tqdm import tqdm"
   ]
  },
  {
   "cell_type": "code",
   "execution_count": 5,
   "metadata": {},
   "outputs": [],
   "source": [
    "def gen(n):\n",
    "\n",
    "    x1 = np.random.uniform(size = n).reshape((n, 1))\n",
    "    x2 = np.random.uniform(size = n).reshape((n, 1))\n",
    "    x3 = np.random.uniform(size = n).reshape((n, 1))\n",
    "    x4 = np.random.uniform(size = n).reshape((n, 1))\n",
    "    x5 = np.random.uniform(size = n).reshape((n, 1))\n",
    "\n",
    "    X = np.concatenate((x1, x2, x3, x4, x5), axis = 1)\n",
    "\n",
    "    epi = np.random.randn(n).reshape((n, 1))\n",
    "\n",
    "    y = 10 * np.sin(np.pi * x1 * x2) + 20 * (x3 - 0.05) ** 2 + 10 * x4 + 5 * x5 + epi\n",
    "\n",
    "    y = y.ravel()\n",
    "    \n",
    "    return X, y"
   ]
  },
  {
   "cell_type": "code",
   "execution_count": 7,
   "metadata": {},
   "outputs": [],
   "source": [
    "def predict_var(self, X, method = \"corrected\"):\n",
    "\n",
    "    predict_all = np.zeros((X.shape[0], self.n_estimators))\n",
    "    for t_idx in range(self.n_estimators):\n",
    "        predict_all[:, t_idx] = self.estimators_[t_idx].predict(X)\n",
    "    pred = np.mean(predict_all, axis = 1)\n",
    "\n",
    "    inbag_times_ = self.inbag_times_\n",
    "\n",
    "    m = X.shape[0]\n",
    "\n",
    "    if method == \"BM\":\n",
    "        cond_exp_full = np.zeros((self.n_samples_, m))\n",
    "\n",
    "        for i in range(self.n_samples_):\n",
    "            # cond_exp_full[i, :] = np.mean(predict_all[:, inbag_times_[i, :] >= 1], axis=1)\n",
    "            cond_exp_full[i, :] = np.average(predict_all, weights = inbag_times_[i, :], axis = 1)\n",
    "\n",
    "        zeta1_full = np.zeros(m)\n",
    "        zetan_full = np.zeros(m)\n",
    "        variance = np.zeros(m)\n",
    "        for i in range(m):\n",
    "            zeta1_full[i] = np.var(cond_exp_full[:, i])\n",
    "            zetan_full[i] = np.var(predict_all[i, :])\n",
    "        variance = zeta1_full * (self.n_subsamples_ ** 2) / self.n_samples_ + zetan_full / self.n_estimators\n",
    "        \n",
    "        return [float(variance), float(zeta1_full), float(zetan_full)]\n",
    "        \n",
    "    elif method == \"IJ\":\n",
    "        \n",
    "        f_centered = predict_all - np.mean(predict_all, axis=1).reshape(m, 1)\n",
    "        i_centered = inbag_times_ - np.mean(inbag_times_, axis=1).reshape(self.n_samples_, 1)\n",
    "        corr = np.dot(f_centered, i_centered.T) / self.n_estimators\n",
    "        cov = np.dot(corr, corr.T)\n",
    "        zetan_full = np.cov(predict_all)\n",
    "        covariance = cov + zetan_full / self.n_estimators\n",
    "\n",
    "        return [float(np.diagonal(covariance)), float(cov), float(zetan_full)]\n",
    "    \n",
    "    elif method == \"corrected\":\n",
    "        \n",
    "        cond_exp_full = np.zeros((self.n_samples_, m))\n",
    "\n",
    "        for i in range(self.n_samples_):\n",
    "            # cond_exp_full[i, :] = np.mean(predict_all[:, inbag_times_[i, :] >= 1], axis=1)\n",
    "            cond_exp_full[i, :] = np.average(predict_all, weights = inbag_times_[i, :], axis = 1)\n",
    "\n",
    "        inbag_times_ = inbag_times_[np.sum(inbag_times_, axis = 1) > 0, ]\n",
    "\n",
    "        nk = np.sum(inbag_times_, axis = 1)\n",
    "        K = len(nk)\n",
    "        C = np.sum(nk)     \n",
    "\n",
    "        SSr = np.dot(((cond_exp_full - pred) ** 2).T, nk)\n",
    "\n",
    "        SSe = [0] * m\n",
    "\n",
    "        for i in range(K):\n",
    "            SSei = np.sum((predict_all[:, inbag_times_[i, :]>=1].T - cond_exp_full[i, :]) ** 2, axis = 0)\n",
    "            SSe += SSei\n",
    "\n",
    "        sigma_e_squared = SSe / (C - K)\n",
    "\n",
    "        sigma_M_squared = (SSr - (K - 1) * sigma_e_squared) / (C - np.sum(nk ** 2) / C)\n",
    "        \n",
    "        sigma_M_squared_without = SSr / C\n",
    "        \n",
    "        return  [(self.n_subsamples_ ** 2) / self.n_samples_ * float(sigma_M_squared), (self.n_subsamples_ ** 2) / self.n_samples_ * float(sigma_M_squared_without)]\n",
    "        "
   ]
  },
  {
   "cell_type": "code",
   "execution_count": null,
   "metadata": {},
   "outputs": [],
   "source": []
  },
  {
   "cell_type": "markdown",
   "metadata": {},
   "source": [
    "### test point 1"
   ]
  },
  {
   "cell_type": "code",
   "execution_count": 8,
   "metadata": {},
   "outputs": [
    {
     "name": "stderr",
     "output_type": "stream",
     "text": [
      "\r",
      "  0%|          | 0/500 [00:00<?, ?it/s]"
     ]
    },
    {
     "name": "stdout",
     "output_type": "stream",
     "text": [
      "========================= B = 500 =========================\n"
     ]
    },
    {
     "name": "stderr",
     "output_type": "stream",
     "text": [
      "100%|██████████| 500/500 [05:47<00:00,  1.44it/s]\n",
      "  0%|          | 0/500 [00:00<?, ?it/s]"
     ]
    },
    {
     "name": "stdout",
     "output_type": "stream",
     "text": [
      "normal test: NormaltestResult(statistic=2.4464340380424505, pvalue=0.2942819319241859)\n",
      "variance ratio for uc: 5.661924847462699\n",
      "C.C. for uc: 1.0\n",
      "========================= B = 1000 =========================\n"
     ]
    },
    {
     "name": "stderr",
     "output_type": "stream",
     "text": [
      "100%|██████████| 500/500 [11:34<00:00,  1.39s/it]\n",
      "  0%|          | 0/500 [00:00<?, ?it/s]"
     ]
    },
    {
     "name": "stdout",
     "output_type": "stream",
     "text": [
      "normal test: NormaltestResult(statistic=4.001477650267804, pvalue=0.135235331055992)\n",
      "variance ratio for uc: 3.528958760985348\n",
      "C.C. for uc: 0.998\n",
      "========================= B = 2500 =========================\n"
     ]
    },
    {
     "name": "stderr",
     "output_type": "stream",
     "text": [
      "100%|██████████| 500/500 [27:53<00:00,  3.35s/it]\n",
      "  0%|          | 0/500 [00:00<?, ?it/s]"
     ]
    },
    {
     "name": "stdout",
     "output_type": "stream",
     "text": [
      "normal test: NormaltestResult(statistic=1.6279248088272402, pvalue=0.44309884632997976)\n",
      "variance ratio for uc: 1.672452389597524\n",
      "C.C. for uc: 0.982\n",
      "========================= B = 5000 =========================\n"
     ]
    },
    {
     "name": "stderr",
     "output_type": "stream",
     "text": [
      "100%|██████████| 500/500 [53:02<00:00,  6.36s/it]"
     ]
    },
    {
     "name": "stdout",
     "output_type": "stream",
     "text": [
      "normal test: NormaltestResult(statistic=3.855318739522874, pvalue=0.14548833465728636)\n",
      "variance ratio for uc: 1.239591361780564\n",
      "C.C. for uc: 0.966\n"
     ]
    },
    {
     "name": "stderr",
     "output_type": "stream",
     "text": [
      "\n"
     ]
    }
   ],
   "source": [
    "np.random.seed(11)\n",
    "test = np.array([[0.5, 0.5, 0.5, 0.5, 0.5]])\n",
    "\n",
    "rep = 500\n",
    "n_sub = 100\n",
    "\n",
    "\n",
    "print(\"========================= B = 500 =========================\")\n",
    "\n",
    "pred = []\n",
    "var_uc = []\n",
    "var_c = []\n",
    "\n",
    "for r in tqdm(range(rep)):\n",
    "    \n",
    "    X, y = gen(500)\n",
    "    \n",
    "    model = RandomForestRegressor(n_estimators = 500)\n",
    "    model.fit(X, y, n_subsamples = n_sub, replace = False)\n",
    "    pred.append(model.predict(test)[0])\n",
    "#     var_c.append(predict_var(model, test)[0])\n",
    "    var_uc.append(predict_var(model, test, method = \"IJ\")[0])\n",
    "\n",
    "print(\"normal test: \" + str(stats.normaltest(pred)))\n",
    "# print(\"variance ratio for c: \" + str(np.mean(var_c) / np.var(pred)))\n",
    "print(\"variance ratio for uc: \" + str(np.mean(var_uc) / np.var(pred)))\n",
    "\n",
    "target = np.mean(pred)\n",
    "# count_c = 0\n",
    "# for r in range(rep):\n",
    "#     lower = pred[r] - 1.96 * np.sqrt(var_c[r])\n",
    "#     upper = pred[r] + 1.96 * np.sqrt(var_c[r])\n",
    "#     if target >= lower and target <= upper:\n",
    "#         count_c += 1\n",
    "count_uc = 0\n",
    "for r in range(rep):\n",
    "    lower = pred[r] - 1.96 * np.sqrt(var_uc[r])\n",
    "    upper = pred[r] + 1.96 * np.sqrt(var_uc[r])\n",
    "    if target >= lower and target <= upper:\n",
    "        count_uc += 1        \n",
    "# print(\"C.C. for c: \" + str(count_c / rep))\n",
    "print(\"C.C. for uc: \" + str(count_uc / rep))\n",
    "\n",
    "\n",
    "\n",
    "print(\"========================= B = 1000 =========================\")\n",
    "pred = []\n",
    "var_uc = []\n",
    "var_c = []\n",
    "\n",
    "for r in tqdm(range(rep)):\n",
    "    \n",
    "    X, y = gen(500)\n",
    "    \n",
    "    model = RandomForestRegressor(n_estimators = 1000)\n",
    "    model.fit(X, y, n_subsamples = n_sub, replace = False)\n",
    "    pred.append(model.predict(test)[0])\n",
    "#     var_c.append(predict_var(model, test)[0])\n",
    "    var_uc.append(predict_var(model, test, method = \"IJ\")[0])\n",
    "\n",
    "print(\"normal test: \" + str(stats.normaltest(pred)))\n",
    "# print(\"variance ratio for c: \" + str(np.mean(var_c) / np.var(pred)))\n",
    "print(\"variance ratio for uc: \" + str(np.mean(var_uc) / np.var(pred)))\n",
    "\n",
    "target = np.mean(pred)\n",
    "# count_c = 0\n",
    "# for r in range(rep):\n",
    "#     lower = pred[r] - 1.96 * np.sqrt(var_c[r])\n",
    "#     upper = pred[r] + 1.96 * np.sqrt(var_c[r])\n",
    "#     if target >= lower and target <= upper:\n",
    "#         count_c += 1\n",
    "count_uc = 0\n",
    "for r in range(rep):\n",
    "    lower = pred[r] - 1.96 * np.sqrt(var_uc[r])\n",
    "    upper = pred[r] + 1.96 * np.sqrt(var_uc[r])\n",
    "    if target >= lower and target <= upper:\n",
    "        count_uc += 1        \n",
    "# print(\"C.C. for c: \" + str(count_c / rep))\n",
    "print(\"C.C. for uc: \" + str(count_uc / rep))\n",
    "\n",
    "\n",
    "\n",
    "print(\"========================= B = 2500 =========================\")\n",
    "pred = []\n",
    "var_uc = []\n",
    "var_c = []\n",
    "\n",
    "for r in tqdm(range(rep)):\n",
    "    \n",
    "    X, y = gen(500)\n",
    "    \n",
    "    model = RandomForestRegressor(n_estimators = 2500)\n",
    "    model.fit(X, y, n_subsamples = n_sub, replace = False)\n",
    "    pred.append(model.predict(test)[0])\n",
    "#     var_c.append(predict_var(model, test)[0])\n",
    "    var_uc.append(predict_var(model, test, method = \"IJ\")[0])\n",
    "\n",
    "print(\"normal test: \" + str(stats.normaltest(pred)))\n",
    "# print(\"variance ratio for c: \" + str(np.mean(var_c) / np.var(pred)))\n",
    "print(\"variance ratio for uc: \" + str(np.mean(var_uc) / np.var(pred)))\n",
    "\n",
    "target = np.mean(pred)\n",
    "# count_c = 0\n",
    "# for r in range(rep):\n",
    "#     lower = pred[r] - 1.96 * np.sqrt(var_c[r])\n",
    "#     upper = pred[r] + 1.96 * np.sqrt(var_c[r])\n",
    "#     if target >= lower and target <= upper:\n",
    "#         count_c += 1\n",
    "count_uc = 0\n",
    "for r in range(rep):\n",
    "    lower = pred[r] - 1.96 * np.sqrt(var_uc[r])\n",
    "    upper = pred[r] + 1.96 * np.sqrt(var_uc[r])\n",
    "    if target >= lower and target <= upper:\n",
    "        count_uc += 1        \n",
    "# print(\"C.C. for c: \" + str(count_c / rep))\n",
    "print(\"C.C. for uc: \" + str(count_uc / rep))\n",
    "\n",
    "\n",
    "print(\"========================= B = 5000 =========================\")\n",
    "pred = []\n",
    "var_uc = []\n",
    "var_c = []\n",
    "\n",
    "for r in tqdm(range(rep)):\n",
    "    \n",
    "    X, y = gen(500)\n",
    "    \n",
    "    model = RandomForestRegressor(n_estimators = 5000)\n",
    "    model.fit(X, y, n_subsamples = n_sub, replace = False)\n",
    "    pred.append(model.predict(test)[0])\n",
    "#     var_c.append(predict_var(model, test)[0])\n",
    "    var_uc.append(predict_var(model, test, method = \"IJ\")[0])\n",
    "\n",
    "print(\"normal test: \" + str(stats.normaltest(pred)))\n",
    "# print(\"variance ratio for c: \" + str(np.mean(var_c) / np.var(pred)))\n",
    "print(\"variance ratio for uc: \" + str(np.mean(var_uc) / np.var(pred)))\n",
    "\n",
    "target = np.mean(pred)\n",
    "# count_c = 0\n",
    "# for r in range(rep):\n",
    "#     lower = pred[r] - 1.96 * np.sqrt(var_c[r])\n",
    "#     upper = pred[r] + 1.96 * np.sqrt(var_c[r])\n",
    "#     if target >= lower and target <= upper:\n",
    "#         count_c += 1\n",
    "count_uc = 0\n",
    "for r in range(rep):\n",
    "    lower = pred[r] - 1.96 * np.sqrt(var_uc[r])\n",
    "    upper = pred[r] + 1.96 * np.sqrt(var_uc[r])\n",
    "    if target >= lower and target <= upper:\n",
    "        count_uc += 1        \n",
    "# print(\"C.C. for c: \" + str(count_c / rep))\n",
    "print(\"C.C. for uc: \" + str(count_uc / rep))\n"
   ]
  },
  {
   "cell_type": "code",
   "execution_count": null,
   "metadata": {},
   "outputs": [],
   "source": []
  },
  {
   "cell_type": "code",
   "execution_count": 9,
   "metadata": {},
   "outputs": [
    {
     "name": "stderr",
     "output_type": "stream",
     "text": [
      "\r",
      "  0%|          | 0/500 [00:00<?, ?it/s]"
     ]
    },
    {
     "name": "stdout",
     "output_type": "stream",
     "text": [
      "========================= B = 500 =========================\n"
     ]
    },
    {
     "name": "stderr",
     "output_type": "stream",
     "text": [
      "100%|██████████| 500/500 [07:01<00:00,  1.19it/s]\n",
      "  0%|          | 0/500 [00:00<?, ?it/s]"
     ]
    },
    {
     "name": "stdout",
     "output_type": "stream",
     "text": [
      "normal test: NormaltestResult(statistic=3.8301459300000062, pvalue=0.14733108218155325)\n",
      "variance ratio for uc: 3.297244062756296\n",
      "C.C. for uc: 0.996\n",
      "========================= B = 1000 =========================\n"
     ]
    },
    {
     "name": "stderr",
     "output_type": "stream",
     "text": [
      "100%|██████████| 500/500 [13:57<00:00,  1.68s/it]\n",
      "  0%|          | 0/500 [00:00<?, ?it/s]"
     ]
    },
    {
     "name": "stdout",
     "output_type": "stream",
     "text": [
      "normal test: NormaltestResult(statistic=5.974908225357875, pvalue=0.05041562597961733)\n",
      "variance ratio for uc: 1.9543511415525263\n",
      "C.C. for uc: 0.984\n",
      "========================= B = 2500 =========================\n"
     ]
    },
    {
     "name": "stderr",
     "output_type": "stream",
     "text": [
      "100%|██████████| 500/500 [34:50<00:00,  4.18s/it]\n",
      "  0%|          | 0/500 [00:00<?, ?it/s]"
     ]
    },
    {
     "name": "stdout",
     "output_type": "stream",
     "text": [
      "normal test: NormaltestResult(statistic=7.463131955648999, pvalue=0.023955292991145995)\n",
      "variance ratio for uc: 0.9110164164914092\n",
      "C.C. for uc: 0.918\n",
      "========================= B = 5000 =========================\n"
     ]
    },
    {
     "name": "stderr",
     "output_type": "stream",
     "text": [
      "100%|██████████| 500/500 [1:09:41<00:00,  8.36s/it]"
     ]
    },
    {
     "name": "stdout",
     "output_type": "stream",
     "text": [
      "normal test: NormaltestResult(statistic=6.261067621616572, pvalue=0.04369446644773493)\n",
      "variance ratio for uc: 0.5917853096746519\n",
      "C.C. for uc: 0.854\n"
     ]
    },
    {
     "name": "stderr",
     "output_type": "stream",
     "text": [
      "\n"
     ]
    }
   ],
   "source": [
    "np.random.seed(11)\n",
    "test = np.array([[0.5, 0.5, 0.5, 0.5, 0.5]])\n",
    "\n",
    "rep = 500\n",
    "n_sub = 250\n",
    "\n",
    "\n",
    "print(\"========================= B = 500 =========================\")\n",
    "\n",
    "pred = []\n",
    "var_uc = []\n",
    "var_c = []\n",
    "\n",
    "for r in tqdm(range(rep)):\n",
    "    \n",
    "    X, y = gen(500)\n",
    "    \n",
    "    model = RandomForestRegressor(n_estimators = 500)\n",
    "    model.fit(X, y, n_subsamples = n_sub, replace = False)\n",
    "    pred.append(model.predict(test)[0])\n",
    "#     var_c.append(predict_var(model, test)[0])\n",
    "    var_uc.append(predict_var(model, test, method = \"IJ\")[0])\n",
    "\n",
    "print(\"normal test: \" + str(stats.normaltest(pred)))\n",
    "# print(\"variance ratio for c: \" + str(np.mean(var_c) / np.var(pred)))\n",
    "print(\"variance ratio for uc: \" + str(np.mean(var_uc) / np.var(pred)))\n",
    "\n",
    "target = np.mean(pred)\n",
    "# count_c = 0\n",
    "# for r in range(rep):\n",
    "#     lower = pred[r] - 1.96 * np.sqrt(var_c[r])\n",
    "#     upper = pred[r] + 1.96 * np.sqrt(var_c[r])\n",
    "#     if target >= lower and target <= upper:\n",
    "#         count_c += 1\n",
    "count_uc = 0\n",
    "for r in range(rep):\n",
    "    lower = pred[r] - 1.96 * np.sqrt(var_uc[r])\n",
    "    upper = pred[r] + 1.96 * np.sqrt(var_uc[r])\n",
    "    if target >= lower and target <= upper:\n",
    "        count_uc += 1        \n",
    "# print(\"C.C. for c: \" + str(count_c / rep))\n",
    "print(\"C.C. for uc: \" + str(count_uc / rep))\n",
    "\n",
    "\n",
    "\n",
    "print(\"========================= B = 1000 =========================\")\n",
    "pred = []\n",
    "var_uc = []\n",
    "var_c = []\n",
    "\n",
    "for r in tqdm(range(rep)):\n",
    "    \n",
    "    X, y = gen(500)\n",
    "    \n",
    "    model = RandomForestRegressor(n_estimators = 1000)\n",
    "    model.fit(X, y, n_subsamples = n_sub, replace = False)\n",
    "    pred.append(model.predict(test)[0])\n",
    "#     var_c.append(predict_var(model, test)[0])\n",
    "    var_uc.append(predict_var(model, test, method = \"IJ\")[0])\n",
    "\n",
    "print(\"normal test: \" + str(stats.normaltest(pred)))\n",
    "# print(\"variance ratio for c: \" + str(np.mean(var_c) / np.var(pred)))\n",
    "print(\"variance ratio for uc: \" + str(np.mean(var_uc) / np.var(pred)))\n",
    "\n",
    "target = np.mean(pred)\n",
    "# count_c = 0\n",
    "# for r in range(rep):\n",
    "#     lower = pred[r] - 1.96 * np.sqrt(var_c[r])\n",
    "#     upper = pred[r] + 1.96 * np.sqrt(var_c[r])\n",
    "#     if target >= lower and target <= upper:\n",
    "#         count_c += 1\n",
    "count_uc = 0\n",
    "for r in range(rep):\n",
    "    lower = pred[r] - 1.96 * np.sqrt(var_uc[r])\n",
    "    upper = pred[r] + 1.96 * np.sqrt(var_uc[r])\n",
    "    if target >= lower and target <= upper:\n",
    "        count_uc += 1        \n",
    "# print(\"C.C. for c: \" + str(count_c / rep))\n",
    "print(\"C.C. for uc: \" + str(count_uc / rep))\n",
    "\n",
    "\n",
    "\n",
    "print(\"========================= B = 2500 =========================\")\n",
    "pred = []\n",
    "var_uc = []\n",
    "var_c = []\n",
    "\n",
    "for r in tqdm(range(rep)):\n",
    "    \n",
    "    X, y = gen(500)\n",
    "    \n",
    "    model = RandomForestRegressor(n_estimators = 2500)\n",
    "    model.fit(X, y, n_subsamples = n_sub, replace = False)\n",
    "    pred.append(model.predict(test)[0])\n",
    "#     var_c.append(predict_var(model, test)[0])\n",
    "    var_uc.append(predict_var(model, test, method = \"IJ\")[0])\n",
    "\n",
    "print(\"normal test: \" + str(stats.normaltest(pred)))\n",
    "# print(\"variance ratio for c: \" + str(np.mean(var_c) / np.var(pred)))\n",
    "print(\"variance ratio for uc: \" + str(np.mean(var_uc) / np.var(pred)))\n",
    "\n",
    "target = np.mean(pred)\n",
    "# count_c = 0\n",
    "# for r in range(rep):\n",
    "#     lower = pred[r] - 1.96 * np.sqrt(var_c[r])\n",
    "#     upper = pred[r] + 1.96 * np.sqrt(var_c[r])\n",
    "#     if target >= lower and target <= upper:\n",
    "#         count_c += 1\n",
    "count_uc = 0\n",
    "for r in range(rep):\n",
    "    lower = pred[r] - 1.96 * np.sqrt(var_uc[r])\n",
    "    upper = pred[r] + 1.96 * np.sqrt(var_uc[r])\n",
    "    if target >= lower and target <= upper:\n",
    "        count_uc += 1        \n",
    "# print(\"C.C. for c: \" + str(count_c / rep))\n",
    "print(\"C.C. for uc: \" + str(count_uc / rep))\n",
    "\n",
    "\n",
    "print(\"========================= B = 5000 =========================\")\n",
    "pred = []\n",
    "var_uc = []\n",
    "var_c = []\n",
    "\n",
    "for r in tqdm(range(rep)):\n",
    "    \n",
    "    X, y = gen(500)\n",
    "    \n",
    "    model = RandomForestRegressor(n_estimators = 5000)\n",
    "    model.fit(X, y, n_subsamples = n_sub, replace = False)\n",
    "    pred.append(model.predict(test)[0])\n",
    "#     var_c.append(predict_var(model, test)[0])\n",
    "    var_uc.append(predict_var(model, test, method = \"IJ\")[0])\n",
    "\n",
    "print(\"normal test: \" + str(stats.normaltest(pred)))\n",
    "# print(\"variance ratio for c: \" + str(np.mean(var_c) / np.var(pred)))\n",
    "print(\"variance ratio for uc: \" + str(np.mean(var_uc) / np.var(pred)))\n",
    "\n",
    "target = np.mean(pred)\n",
    "# count_c = 0\n",
    "# for r in range(rep):\n",
    "#     lower = pred[r] - 1.96 * np.sqrt(var_c[r])\n",
    "#     upper = pred[r] + 1.96 * np.sqrt(var_c[r])\n",
    "#     if target >= lower and target <= upper:\n",
    "#         count_c += 1\n",
    "count_uc = 0\n",
    "for r in range(rep):\n",
    "    lower = pred[r] - 1.96 * np.sqrt(var_uc[r])\n",
    "    upper = pred[r] + 1.96 * np.sqrt(var_uc[r])\n",
    "    if target >= lower and target <= upper:\n",
    "        count_uc += 1        \n",
    "# print(\"C.C. for c: \" + str(count_c / rep))\n",
    "print(\"C.C. for uc: \" + str(count_uc / rep))\n"
   ]
  },
  {
   "cell_type": "code",
   "execution_count": null,
   "metadata": {},
   "outputs": [],
   "source": []
  },
  {
   "cell_type": "code",
   "execution_count": 10,
   "metadata": {},
   "outputs": [
    {
     "name": "stderr",
     "output_type": "stream",
     "text": [
      "\r",
      "  0%|          | 0/500 [00:00<?, ?it/s]"
     ]
    },
    {
     "name": "stdout",
     "output_type": "stream",
     "text": [
      "========================= B = 500 =========================\n"
     ]
    },
    {
     "name": "stderr",
     "output_type": "stream",
     "text": [
      "100%|██████████| 500/500 [10:25<00:00,  1.25s/it]\n",
      "  0%|          | 0/500 [00:00<?, ?it/s]"
     ]
    },
    {
     "name": "stdout",
     "output_type": "stream",
     "text": [
      "normal test: NormaltestResult(statistic=28.941282481150466, pvalue=5.193741849773757e-07)\n",
      "variance ratio for uc: 0.00012272103766959916\n",
      "C.C. for uc: 0.014\n",
      "========================= B = 1000 =========================\n"
     ]
    },
    {
     "name": "stderr",
     "output_type": "stream",
     "text": [
      "100%|██████████| 500/500 [20:47<00:00,  2.50s/it]\n",
      "  0%|          | 0/500 [00:00<?, ?it/s]"
     ]
    },
    {
     "name": "stdout",
     "output_type": "stream",
     "text": [
      "normal test: NormaltestResult(statistic=11.338814094398092, pvalue=0.0034499103037184133)\n",
      "variance ratio for uc: 9.037086904509937e-05\n",
      "C.C. for uc: 0.012\n",
      "========================= B = 2500 =========================\n"
     ]
    },
    {
     "name": "stderr",
     "output_type": "stream",
     "text": [
      "100%|██████████| 500/500 [51:51<00:00,  6.22s/it]\n",
      "  0%|          | 0/500 [00:00<?, ?it/s]"
     ]
    },
    {
     "name": "stdout",
     "output_type": "stream",
     "text": [
      "normal test: NormaltestResult(statistic=2.916084193098453, pvalue=0.23269141634972676)\n",
      "variance ratio for uc: 3.1703047969792436e-05\n",
      "C.C. for uc: 0.006\n",
      "========================= B = 5000 =========================\n"
     ]
    },
    {
     "name": "stderr",
     "output_type": "stream",
     "text": [
      "100%|██████████| 500/500 [1:43:40<00:00, 12.44s/it]"
     ]
    },
    {
     "name": "stdout",
     "output_type": "stream",
     "text": [
      "normal test: NormaltestResult(statistic=5.256400703928276, pvalue=0.07220829489326178)\n",
      "variance ratio for uc: 1.6362695671505015e-05\n",
      "C.C. for uc: 0.004\n"
     ]
    },
    {
     "name": "stderr",
     "output_type": "stream",
     "text": [
      "\n"
     ]
    }
   ],
   "source": [
    "np.random.seed(11)\n",
    "test = np.array([[0.5, 0.5, 0.5, 0.5, 0.5]])\n",
    "\n",
    "rep = 500\n",
    "n_sub = 500\n",
    "\n",
    "\n",
    "print(\"========================= B = 500 =========================\")\n",
    "\n",
    "pred = []\n",
    "var_uc = []\n",
    "var_c = []\n",
    "\n",
    "for r in tqdm(range(rep)):\n",
    "    \n",
    "    X, y = gen(500)\n",
    "    \n",
    "    model = RandomForestRegressor(n_estimators = 500)\n",
    "    model.fit(X, y, n_subsamples = n_sub, replace = False)\n",
    "    pred.append(model.predict(test)[0])\n",
    "#     var_c.append(predict_var(model, test)[0])\n",
    "    var_uc.append(predict_var(model, test, method = \"IJ\")[0])\n",
    "\n",
    "print(\"normal test: \" + str(stats.normaltest(pred)))\n",
    "# print(\"variance ratio for c: \" + str(np.mean(var_c) / np.var(pred)))\n",
    "print(\"variance ratio for uc: \" + str(np.mean(var_uc) / np.var(pred)))\n",
    "\n",
    "target = np.mean(pred)\n",
    "# count_c = 0\n",
    "# for r in range(rep):\n",
    "#     lower = pred[r] - 1.96 * np.sqrt(var_c[r])\n",
    "#     upper = pred[r] + 1.96 * np.sqrt(var_c[r])\n",
    "#     if target >= lower and target <= upper:\n",
    "#         count_c += 1\n",
    "count_uc = 0\n",
    "for r in range(rep):\n",
    "    lower = pred[r] - 1.96 * np.sqrt(var_uc[r])\n",
    "    upper = pred[r] + 1.96 * np.sqrt(var_uc[r])\n",
    "    if target >= lower and target <= upper:\n",
    "        count_uc += 1        \n",
    "# print(\"C.C. for c: \" + str(count_c / rep))\n",
    "print(\"C.C. for uc: \" + str(count_uc / rep))\n",
    "\n",
    "\n",
    "\n",
    "print(\"========================= B = 1000 =========================\")\n",
    "pred = []\n",
    "var_uc = []\n",
    "var_c = []\n",
    "\n",
    "for r in tqdm(range(rep)):\n",
    "    \n",
    "    X, y = gen(500)\n",
    "    \n",
    "    model = RandomForestRegressor(n_estimators = 1000)\n",
    "    model.fit(X, y, n_subsamples = n_sub, replace = False)\n",
    "    pred.append(model.predict(test)[0])\n",
    "#     var_c.append(predict_var(model, test)[0])\n",
    "    var_uc.append(predict_var(model, test, method = \"IJ\")[0])\n",
    "\n",
    "print(\"normal test: \" + str(stats.normaltest(pred)))\n",
    "# print(\"variance ratio for c: \" + str(np.mean(var_c) / np.var(pred)))\n",
    "print(\"variance ratio for uc: \" + str(np.mean(var_uc) / np.var(pred)))\n",
    "\n",
    "target = np.mean(pred)\n",
    "# count_c = 0\n",
    "# for r in range(rep):\n",
    "#     lower = pred[r] - 1.96 * np.sqrt(var_c[r])\n",
    "#     upper = pred[r] + 1.96 * np.sqrt(var_c[r])\n",
    "#     if target >= lower and target <= upper:\n",
    "#         count_c += 1\n",
    "count_uc = 0\n",
    "for r in range(rep):\n",
    "    lower = pred[r] - 1.96 * np.sqrt(var_uc[r])\n",
    "    upper = pred[r] + 1.96 * np.sqrt(var_uc[r])\n",
    "    if target >= lower and target <= upper:\n",
    "        count_uc += 1        \n",
    "# print(\"C.C. for c: \" + str(count_c / rep))\n",
    "print(\"C.C. for uc: \" + str(count_uc / rep))\n",
    "\n",
    "\n",
    "\n",
    "print(\"========================= B = 2500 =========================\")\n",
    "pred = []\n",
    "var_uc = []\n",
    "var_c = []\n",
    "\n",
    "for r in tqdm(range(rep)):\n",
    "    \n",
    "    X, y = gen(500)\n",
    "    \n",
    "    model = RandomForestRegressor(n_estimators = 2500)\n",
    "    model.fit(X, y, n_subsamples = n_sub, replace = False)\n",
    "    pred.append(model.predict(test)[0])\n",
    "#     var_c.append(predict_var(model, test)[0])\n",
    "    var_uc.append(predict_var(model, test, method = \"IJ\")[0])\n",
    "\n",
    "print(\"normal test: \" + str(stats.normaltest(pred)))\n",
    "# print(\"variance ratio for c: \" + str(np.mean(var_c) / np.var(pred)))\n",
    "print(\"variance ratio for uc: \" + str(np.mean(var_uc) / np.var(pred)))\n",
    "\n",
    "target = np.mean(pred)\n",
    "# count_c = 0\n",
    "# for r in range(rep):\n",
    "#     lower = pred[r] - 1.96 * np.sqrt(var_c[r])\n",
    "#     upper = pred[r] + 1.96 * np.sqrt(var_c[r])\n",
    "#     if target >= lower and target <= upper:\n",
    "#         count_c += 1\n",
    "count_uc = 0\n",
    "for r in range(rep):\n",
    "    lower = pred[r] - 1.96 * np.sqrt(var_uc[r])\n",
    "    upper = pred[r] + 1.96 * np.sqrt(var_uc[r])\n",
    "    if target >= lower and target <= upper:\n",
    "        count_uc += 1        \n",
    "# print(\"C.C. for c: \" + str(count_c / rep))\n",
    "print(\"C.C. for uc: \" + str(count_uc / rep))\n",
    "\n",
    "\n",
    "print(\"========================= B = 5000 =========================\")\n",
    "pred = []\n",
    "var_uc = []\n",
    "var_c = []\n",
    "\n",
    "for r in tqdm(range(rep)):\n",
    "    \n",
    "    X, y = gen(500)\n",
    "    \n",
    "    model = RandomForestRegressor(n_estimators = 5000)\n",
    "    model.fit(X, y, n_subsamples = n_sub, replace = False)\n",
    "    pred.append(model.predict(test)[0])\n",
    "#     var_c.append(predict_var(model, test)[0])\n",
    "    var_uc.append(predict_var(model, test, method = \"IJ\")[0])\n",
    "\n",
    "print(\"normal test: \" + str(stats.normaltest(pred)))\n",
    "# print(\"variance ratio for c: \" + str(np.mean(var_c) / np.var(pred)))\n",
    "print(\"variance ratio for uc: \" + str(np.mean(var_uc) / np.var(pred)))\n",
    "\n",
    "target = np.mean(pred)\n",
    "# count_c = 0\n",
    "# for r in range(rep):\n",
    "#     lower = pred[r] - 1.96 * np.sqrt(var_c[r])\n",
    "#     upper = pred[r] + 1.96 * np.sqrt(var_c[r])\n",
    "#     if target >= lower and target <= upper:\n",
    "#         count_c += 1\n",
    "count_uc = 0\n",
    "for r in range(rep):\n",
    "    lower = pred[r] - 1.96 * np.sqrt(var_uc[r])\n",
    "    upper = pred[r] + 1.96 * np.sqrt(var_uc[r])\n",
    "    if target >= lower and target <= upper:\n",
    "        count_uc += 1        \n",
    "# print(\"C.C. for c: \" + str(count_c / rep))\n",
    "print(\"C.C. for uc: \" + str(count_uc / rep))\n"
   ]
  },
  {
   "cell_type": "code",
   "execution_count": null,
   "metadata": {},
   "outputs": [],
   "source": []
  },
  {
   "cell_type": "code",
   "execution_count": null,
   "metadata": {},
   "outputs": [],
   "source": []
  },
  {
   "cell_type": "markdown",
   "metadata": {},
   "source": [
    "### test point 2"
   ]
  },
  {
   "cell_type": "code",
   "execution_count": 11,
   "metadata": {},
   "outputs": [
    {
     "name": "stderr",
     "output_type": "stream",
     "text": [
      "\r",
      "  0%|          | 0/500 [00:00<?, ?it/s]"
     ]
    },
    {
     "name": "stdout",
     "output_type": "stream",
     "text": [
      "========================= B = 500 =========================\n"
     ]
    },
    {
     "name": "stderr",
     "output_type": "stream",
     "text": [
      "100%|██████████| 500/500 [05:18<00:00,  1.57it/s]\n",
      "  0%|          | 0/500 [00:00<?, ?it/s]"
     ]
    },
    {
     "name": "stdout",
     "output_type": "stream",
     "text": [
      "normal test: NormaltestResult(statistic=1.7276091988131106, pvalue=0.4215551788607791)\n",
      "variance ratio for uc: 6.171062426771843\n",
      "C.C. for uc: 1.0\n",
      "========================= B = 1000 =========================\n"
     ]
    },
    {
     "name": "stderr",
     "output_type": "stream",
     "text": [
      "100%|██████████| 500/500 [10:33<00:00,  1.27s/it]\n",
      "  0%|          | 0/500 [00:00<?, ?it/s]"
     ]
    },
    {
     "name": "stdout",
     "output_type": "stream",
     "text": [
      "normal test: NormaltestResult(statistic=0.7224429711080578, pvalue=0.6968246447814377)\n",
      "variance ratio for uc: 3.697707373445286\n",
      "C.C. for uc: 1.0\n",
      "========================= B = 2500 =========================\n"
     ]
    },
    {
     "name": "stderr",
     "output_type": "stream",
     "text": [
      "100%|██████████| 500/500 [26:19<00:00,  3.16s/it]\n",
      "  0%|          | 0/500 [00:00<?, ?it/s]"
     ]
    },
    {
     "name": "stdout",
     "output_type": "stream",
     "text": [
      "normal test: NormaltestResult(statistic=4.2958243673755305, pvalue=0.11672760935086736)\n",
      "variance ratio for uc: 1.8111393479907423\n",
      "C.C. for uc: 0.99\n",
      "========================= B = 5000 =========================\n"
     ]
    },
    {
     "name": "stderr",
     "output_type": "stream",
     "text": [
      "100%|██████████| 500/500 [52:35<00:00,  6.31s/it]"
     ]
    },
    {
     "name": "stdout",
     "output_type": "stream",
     "text": [
      "normal test: NormaltestResult(statistic=0.7108379496447758, pvalue=0.7008797307231058)\n",
      "variance ratio for uc: 1.3059734561476435\n",
      "C.C. for uc: 0.982\n"
     ]
    },
    {
     "name": "stderr",
     "output_type": "stream",
     "text": [
      "\n"
     ]
    }
   ],
   "source": [
    "np.random.seed(11)\n",
    "\n",
    "x1 = np.random.uniform(size = 1)[0]\n",
    "x2 = np.random.uniform(size = 1)[0]\n",
    "x3 = np.random.uniform(size = 1)[0]\n",
    "x4 = np.random.uniform(size = 1)[0]\n",
    "x5 = np.random.uniform(size = 1)[0]\n",
    "test = np.array([[x1, x2, x3, x4, x5]])\n",
    "\n",
    "rep = 500\n",
    "n_sub = 100\n",
    "\n",
    "print(\"========================= B = 500 =========================\")\n",
    "\n",
    "pred = []\n",
    "var_uc = []\n",
    "var_c = []\n",
    "\n",
    "for r in tqdm(range(rep)):\n",
    "    \n",
    "    X, y = gen(500)\n",
    "    \n",
    "    model = RandomForestRegressor(n_estimators = 500)\n",
    "    model.fit(X, y, n_subsamples = n_sub, replace = False)\n",
    "    pred.append(model.predict(test)[0])\n",
    "#     var_c.append(predict_var(model, test)[0])\n",
    "    var_uc.append(predict_var(model, test, method = \"IJ\")[0])\n",
    "\n",
    "print(\"normal test: \" + str(stats.normaltest(pred)))\n",
    "# print(\"variance ratio for c: \" + str(np.mean(var_c) / np.var(pred)))\n",
    "print(\"variance ratio for uc: \" + str(np.mean(var_uc) / np.var(pred)))\n",
    "\n",
    "target = np.mean(pred)\n",
    "# count_c = 0\n",
    "# for r in range(rep):\n",
    "#     lower = pred[r] - 1.96 * np.sqrt(var_c[r])\n",
    "#     upper = pred[r] + 1.96 * np.sqrt(var_c[r])\n",
    "#     if target >= lower and target <= upper:\n",
    "#         count_c += 1\n",
    "count_uc = 0\n",
    "for r in range(rep):\n",
    "    lower = pred[r] - 1.96 * np.sqrt(var_uc[r])\n",
    "    upper = pred[r] + 1.96 * np.sqrt(var_uc[r])\n",
    "    if target >= lower and target <= upper:\n",
    "        count_uc += 1        \n",
    "# print(\"C.C. for c: \" + str(count_c / rep))\n",
    "print(\"C.C. for uc: \" + str(count_uc / rep))\n",
    "\n",
    "\n",
    "\n",
    "print(\"========================= B = 1000 =========================\")\n",
    "pred = []\n",
    "var_uc = []\n",
    "var_c = []\n",
    "\n",
    "for r in tqdm(range(rep)):\n",
    "    \n",
    "    X, y = gen(500)\n",
    "    \n",
    "    model = RandomForestRegressor(n_estimators = 1000)\n",
    "    model.fit(X, y, n_subsamples = n_sub, replace = False)\n",
    "    pred.append(model.predict(test)[0])\n",
    "#     var_c.append(predict_var(model, test)[0])\n",
    "    var_uc.append(predict_var(model, test, method = \"IJ\")[0])\n",
    "\n",
    "print(\"normal test: \" + str(stats.normaltest(pred)))\n",
    "# print(\"variance ratio for c: \" + str(np.mean(var_c) / np.var(pred)))\n",
    "print(\"variance ratio for uc: \" + str(np.mean(var_uc) / np.var(pred)))\n",
    "\n",
    "target = np.mean(pred)\n",
    "# count_c = 0\n",
    "# for r in range(rep):\n",
    "#     lower = pred[r] - 1.96 * np.sqrt(var_c[r])\n",
    "#     upper = pred[r] + 1.96 * np.sqrt(var_c[r])\n",
    "#     if target >= lower and target <= upper:\n",
    "#         count_c += 1\n",
    "count_uc = 0\n",
    "for r in range(rep):\n",
    "    lower = pred[r] - 1.96 * np.sqrt(var_uc[r])\n",
    "    upper = pred[r] + 1.96 * np.sqrt(var_uc[r])\n",
    "    if target >= lower and target <= upper:\n",
    "        count_uc += 1        \n",
    "# print(\"C.C. for c: \" + str(count_c / rep))\n",
    "print(\"C.C. for uc: \" + str(count_uc / rep))\n",
    "\n",
    "\n",
    "\n",
    "print(\"========================= B = 2500 =========================\")\n",
    "pred = []\n",
    "var_uc = []\n",
    "var_c = []\n",
    "\n",
    "for r in tqdm(range(rep)):\n",
    "    \n",
    "    X, y = gen(500)\n",
    "    \n",
    "    model = RandomForestRegressor(n_estimators = 2500)\n",
    "    model.fit(X, y, n_subsamples = n_sub, replace = False)\n",
    "    pred.append(model.predict(test)[0])\n",
    "#     var_c.append(predict_var(model, test)[0])\n",
    "    var_uc.append(predict_var(model, test, method = \"IJ\")[0])\n",
    "\n",
    "print(\"normal test: \" + str(stats.normaltest(pred)))\n",
    "# print(\"variance ratio for c: \" + str(np.mean(var_c) / np.var(pred)))\n",
    "print(\"variance ratio for uc: \" + str(np.mean(var_uc) / np.var(pred)))\n",
    "\n",
    "target = np.mean(pred)\n",
    "# count_c = 0\n",
    "# for r in range(rep):\n",
    "#     lower = pred[r] - 1.96 * np.sqrt(var_c[r])\n",
    "#     upper = pred[r] + 1.96 * np.sqrt(var_c[r])\n",
    "#     if target >= lower and target <= upper:\n",
    "#         count_c += 1\n",
    "count_uc = 0\n",
    "for r in range(rep):\n",
    "    lower = pred[r] - 1.96 * np.sqrt(var_uc[r])\n",
    "    upper = pred[r] + 1.96 * np.sqrt(var_uc[r])\n",
    "    if target >= lower and target <= upper:\n",
    "        count_uc += 1        \n",
    "# print(\"C.C. for c: \" + str(count_c / rep))\n",
    "print(\"C.C. for uc: \" + str(count_uc / rep))\n",
    "\n",
    "\n",
    "print(\"========================= B = 5000 =========================\")\n",
    "pred = []\n",
    "var_uc = []\n",
    "var_c = []\n",
    "\n",
    "for r in tqdm(range(rep)):\n",
    "    \n",
    "    X, y = gen(500)\n",
    "    \n",
    "    model = RandomForestRegressor(n_estimators = 5000)\n",
    "    model.fit(X, y, n_subsamples = n_sub, replace = False)\n",
    "    pred.append(model.predict(test)[0])\n",
    "#     var_c.append(predict_var(model, test)[0])\n",
    "    var_uc.append(predict_var(model, test, method = \"IJ\")[0])\n",
    "\n",
    "print(\"normal test: \" + str(stats.normaltest(pred)))\n",
    "# print(\"variance ratio for c: \" + str(np.mean(var_c) / np.var(pred)))\n",
    "print(\"variance ratio for uc: \" + str(np.mean(var_uc) / np.var(pred)))\n",
    "\n",
    "target = np.mean(pred)\n",
    "# count_c = 0\n",
    "# for r in range(rep):\n",
    "#     lower = pred[r] - 1.96 * np.sqrt(var_c[r])\n",
    "#     upper = pred[r] + 1.96 * np.sqrt(var_c[r])\n",
    "#     if target >= lower and target <= upper:\n",
    "#         count_c += 1\n",
    "count_uc = 0\n",
    "for r in range(rep):\n",
    "    lower = pred[r] - 1.96 * np.sqrt(var_uc[r])\n",
    "    upper = pred[r] + 1.96 * np.sqrt(var_uc[r])\n",
    "    if target >= lower and target <= upper:\n",
    "        count_uc += 1        \n",
    "# print(\"C.C. for c: \" + str(count_c / rep))\n",
    "print(\"C.C. for uc: \" + str(count_uc / rep))\n"
   ]
  },
  {
   "cell_type": "code",
   "execution_count": null,
   "metadata": {},
   "outputs": [],
   "source": []
  },
  {
   "cell_type": "code",
   "execution_count": 12,
   "metadata": {},
   "outputs": [
    {
     "name": "stderr",
     "output_type": "stream",
     "text": [
      "\r",
      "  0%|          | 0/500 [00:00<?, ?it/s]"
     ]
    },
    {
     "name": "stdout",
     "output_type": "stream",
     "text": [
      "========================= B = 500 =========================\n"
     ]
    },
    {
     "name": "stderr",
     "output_type": "stream",
     "text": [
      "100%|██████████| 500/500 [07:00<00:00,  1.19it/s]\n",
      "  0%|          | 0/500 [00:00<?, ?it/s]"
     ]
    },
    {
     "name": "stdout",
     "output_type": "stream",
     "text": [
      "normal test: NormaltestResult(statistic=3.0423097796691443, pvalue=0.21845944461687533)\n",
      "variance ratio for uc: 2.9888720614350857\n",
      "C.C. for uc: 1.0\n",
      "========================= B = 1000 =========================\n"
     ]
    },
    {
     "name": "stderr",
     "output_type": "stream",
     "text": [
      "100%|██████████| 500/500 [13:59<00:00,  1.68s/it]\n",
      "  0%|          | 0/500 [00:00<?, ?it/s]"
     ]
    },
    {
     "name": "stdout",
     "output_type": "stream",
     "text": [
      "normal test: NormaltestResult(statistic=0.3142447348108759, pvalue=0.8545994772984054)\n",
      "variance ratio for uc: 1.7151975145914908\n",
      "C.C. for uc: 0.986\n",
      "========================= B = 2500 =========================\n"
     ]
    },
    {
     "name": "stderr",
     "output_type": "stream",
     "text": [
      "100%|██████████| 500/500 [34:48<00:00,  4.18s/it]\n",
      "  0%|          | 0/500 [00:00<?, ?it/s]"
     ]
    },
    {
     "name": "stdout",
     "output_type": "stream",
     "text": [
      "normal test: NormaltestResult(statistic=2.0682902397986997, pvalue=0.3555301867294963)\n",
      "variance ratio for uc: 0.8725600096030586\n",
      "C.C. for uc: 0.92\n",
      "========================= B = 5000 =========================\n"
     ]
    },
    {
     "name": "stderr",
     "output_type": "stream",
     "text": [
      "100%|██████████| 500/500 [1:10:27<00:00,  8.46s/it]"
     ]
    },
    {
     "name": "stdout",
     "output_type": "stream",
     "text": [
      "normal test: NormaltestResult(statistic=1.4629119346185995, pvalue=0.48120785689193923)\n",
      "variance ratio for uc: 0.6794773378298061\n",
      "C.C. for uc: 0.876\n"
     ]
    },
    {
     "name": "stderr",
     "output_type": "stream",
     "text": [
      "\n"
     ]
    }
   ],
   "source": [
    "# np.random.seed(11)\n",
    "\n",
    "# x1 = np.random.uniform(size = 1)[0]\n",
    "# x2 = np.random.uniform(size = 1)[0]\n",
    "# x3 = np.random.uniform(size = 1)[0]\n",
    "# x4 = np.random.uniform(size = 1)[0]\n",
    "# x5 = np.random.uniform(size = 1)[0]\n",
    "# test = np.array([[x1, x2, x3, x4, x5]])\n",
    "\n",
    "rep = 500\n",
    "n_sub = 250\n",
    "\n",
    "print(\"========================= B = 500 =========================\")\n",
    "\n",
    "pred = []\n",
    "var_uc = []\n",
    "var_c = []\n",
    "\n",
    "for r in tqdm(range(rep)):\n",
    "    \n",
    "    X, y = gen(500)\n",
    "    \n",
    "    model = RandomForestRegressor(n_estimators = 500)\n",
    "    model.fit(X, y, n_subsamples = n_sub, replace = False)\n",
    "    pred.append(model.predict(test)[0])\n",
    "#     var_c.append(predict_var(model, test)[0])\n",
    "    var_uc.append(predict_var(model, test, method = \"IJ\")[0])\n",
    "\n",
    "print(\"normal test: \" + str(stats.normaltest(pred)))\n",
    "# print(\"variance ratio for c: \" + str(np.mean(var_c) / np.var(pred)))\n",
    "print(\"variance ratio for uc: \" + str(np.mean(var_uc) / np.var(pred)))\n",
    "\n",
    "target = np.mean(pred)\n",
    "# count_c = 0\n",
    "# for r in range(rep):\n",
    "#     lower = pred[r] - 1.96 * np.sqrt(var_c[r])\n",
    "#     upper = pred[r] + 1.96 * np.sqrt(var_c[r])\n",
    "#     if target >= lower and target <= upper:\n",
    "#         count_c += 1\n",
    "count_uc = 0\n",
    "for r in range(rep):\n",
    "    lower = pred[r] - 1.96 * np.sqrt(var_uc[r])\n",
    "    upper = pred[r] + 1.96 * np.sqrt(var_uc[r])\n",
    "    if target >= lower and target <= upper:\n",
    "        count_uc += 1        \n",
    "# print(\"C.C. for c: \" + str(count_c / rep))\n",
    "print(\"C.C. for uc: \" + str(count_uc / rep))\n",
    "\n",
    "\n",
    "\n",
    "print(\"========================= B = 1000 =========================\")\n",
    "pred = []\n",
    "var_uc = []\n",
    "var_c = []\n",
    "\n",
    "for r in tqdm(range(rep)):\n",
    "    \n",
    "    X, y = gen(500)\n",
    "    \n",
    "    model = RandomForestRegressor(n_estimators = 1000)\n",
    "    model.fit(X, y, n_subsamples = n_sub, replace = False)\n",
    "    pred.append(model.predict(test)[0])\n",
    "#     var_c.append(predict_var(model, test)[0])\n",
    "    var_uc.append(predict_var(model, test, method = \"IJ\")[0])\n",
    "\n",
    "print(\"normal test: \" + str(stats.normaltest(pred)))\n",
    "# print(\"variance ratio for c: \" + str(np.mean(var_c) / np.var(pred)))\n",
    "print(\"variance ratio for uc: \" + str(np.mean(var_uc) / np.var(pred)))\n",
    "\n",
    "target = np.mean(pred)\n",
    "# count_c = 0\n",
    "# for r in range(rep):\n",
    "#     lower = pred[r] - 1.96 * np.sqrt(var_c[r])\n",
    "#     upper = pred[r] + 1.96 * np.sqrt(var_c[r])\n",
    "#     if target >= lower and target <= upper:\n",
    "#         count_c += 1\n",
    "count_uc = 0\n",
    "for r in range(rep):\n",
    "    lower = pred[r] - 1.96 * np.sqrt(var_uc[r])\n",
    "    upper = pred[r] + 1.96 * np.sqrt(var_uc[r])\n",
    "    if target >= lower and target <= upper:\n",
    "        count_uc += 1        \n",
    "# print(\"C.C. for c: \" + str(count_c / rep))\n",
    "print(\"C.C. for uc: \" + str(count_uc / rep))\n",
    "\n",
    "\n",
    "\n",
    "print(\"========================= B = 2500 =========================\")\n",
    "pred = []\n",
    "var_uc = []\n",
    "var_c = []\n",
    "\n",
    "for r in tqdm(range(rep)):\n",
    "    \n",
    "    X, y = gen(500)\n",
    "    \n",
    "    model = RandomForestRegressor(n_estimators = 2500)\n",
    "    model.fit(X, y, n_subsamples = n_sub, replace = False)\n",
    "    pred.append(model.predict(test)[0])\n",
    "#     var_c.append(predict_var(model, test)[0])\n",
    "    var_uc.append(predict_var(model, test, method = \"IJ\")[0])\n",
    "\n",
    "print(\"normal test: \" + str(stats.normaltest(pred)))\n",
    "# print(\"variance ratio for c: \" + str(np.mean(var_c) / np.var(pred)))\n",
    "print(\"variance ratio for uc: \" + str(np.mean(var_uc) / np.var(pred)))\n",
    "\n",
    "target = np.mean(pred)\n",
    "# count_c = 0\n",
    "# for r in range(rep):\n",
    "#     lower = pred[r] - 1.96 * np.sqrt(var_c[r])\n",
    "#     upper = pred[r] + 1.96 * np.sqrt(var_c[r])\n",
    "#     if target >= lower and target <= upper:\n",
    "#         count_c += 1\n",
    "count_uc = 0\n",
    "for r in range(rep):\n",
    "    lower = pred[r] - 1.96 * np.sqrt(var_uc[r])\n",
    "    upper = pred[r] + 1.96 * np.sqrt(var_uc[r])\n",
    "    if target >= lower and target <= upper:\n",
    "        count_uc += 1        \n",
    "# print(\"C.C. for c: \" + str(count_c / rep))\n",
    "print(\"C.C. for uc: \" + str(count_uc / rep))\n",
    "\n",
    "\n",
    "print(\"========================= B = 5000 =========================\")\n",
    "pred = []\n",
    "var_uc = []\n",
    "var_c = []\n",
    "\n",
    "for r in tqdm(range(rep)):\n",
    "    \n",
    "    X, y = gen(500)\n",
    "    \n",
    "    model = RandomForestRegressor(n_estimators = 5000)\n",
    "    model.fit(X, y, n_subsamples = n_sub, replace = False)\n",
    "    pred.append(model.predict(test)[0])\n",
    "#     var_c.append(predict_var(model, test)[0])\n",
    "    var_uc.append(predict_var(model, test, method = \"IJ\")[0])\n",
    "\n",
    "print(\"normal test: \" + str(stats.normaltest(pred)))\n",
    "# print(\"variance ratio for c: \" + str(np.mean(var_c) / np.var(pred)))\n",
    "print(\"variance ratio for uc: \" + str(np.mean(var_uc) / np.var(pred)))\n",
    "\n",
    "target = np.mean(pred)\n",
    "# count_c = 0\n",
    "# for r in range(rep):\n",
    "#     lower = pred[r] - 1.96 * np.sqrt(var_c[r])\n",
    "#     upper = pred[r] + 1.96 * np.sqrt(var_c[r])\n",
    "#     if target >= lower and target <= upper:\n",
    "#         count_c += 1\n",
    "count_uc = 0\n",
    "for r in range(rep):\n",
    "    lower = pred[r] - 1.96 * np.sqrt(var_uc[r])\n",
    "    upper = pred[r] + 1.96 * np.sqrt(var_uc[r])\n",
    "    if target >= lower and target <= upper:\n",
    "        count_uc += 1        \n",
    "# print(\"C.C. for c: \" + str(count_c / rep))\n",
    "print(\"C.C. for uc: \" + str(count_uc / rep))\n"
   ]
  },
  {
   "cell_type": "code",
   "execution_count": null,
   "metadata": {},
   "outputs": [],
   "source": []
  },
  {
   "cell_type": "code",
   "execution_count": 13,
   "metadata": {},
   "outputs": [
    {
     "name": "stderr",
     "output_type": "stream",
     "text": [
      "\r",
      "  0%|          | 0/500 [00:00<?, ?it/s]"
     ]
    },
    {
     "name": "stdout",
     "output_type": "stream",
     "text": [
      "========================= B = 500 =========================\n"
     ]
    },
    {
     "name": "stderr",
     "output_type": "stream",
     "text": [
      "100%|██████████| 500/500 [11:35<00:00,  1.39s/it]\n",
      "  0%|          | 0/500 [00:00<?, ?it/s]"
     ]
    },
    {
     "name": "stdout",
     "output_type": "stream",
     "text": [
      "normal test: NormaltestResult(statistic=1.7922666550224744, pvalue=0.4081447747230865)\n",
      "variance ratio for uc: 0.00017390678115883958\n",
      "C.C. for uc: 0.014\n",
      "========================= B = 1000 =========================\n"
     ]
    },
    {
     "name": "stderr",
     "output_type": "stream",
     "text": [
      "100%|██████████| 500/500 [22:35<00:00,  2.71s/it]\n",
      "  0%|          | 0/500 [00:00<?, ?it/s]"
     ]
    },
    {
     "name": "stdout",
     "output_type": "stream",
     "text": [
      "normal test: NormaltestResult(statistic=3.828670428433397, pvalue=0.1474398159071016)\n",
      "variance ratio for uc: 9.632212436267316e-05\n",
      "C.C. for uc: 0.006\n",
      "========================= B = 2500 =========================\n"
     ]
    },
    {
     "name": "stderr",
     "output_type": "stream",
     "text": [
      "100%|██████████| 500/500 [52:25<00:00,  6.29s/it]\n",
      "  0%|          | 0/500 [00:00<?, ?it/s]"
     ]
    },
    {
     "name": "stdout",
     "output_type": "stream",
     "text": [
      "normal test: NormaltestResult(statistic=0.38118570498769966, pvalue=0.8264690144571273)\n",
      "variance ratio for uc: 3.6361264149899795e-05\n",
      "C.C. for uc: 0.006\n",
      "========================= B = 5000 =========================\n"
     ]
    },
    {
     "name": "stderr",
     "output_type": "stream",
     "text": [
      "100%|██████████| 500/500 [1:43:54<00:00, 12.47s/it]"
     ]
    },
    {
     "name": "stdout",
     "output_type": "stream",
     "text": [
      "normal test: NormaltestResult(statistic=4.03340901454913, pvalue=0.1330933513294602)\n",
      "variance ratio for uc: 1.9055614248466794e-05\n",
      "C.C. for uc: 0.004\n"
     ]
    },
    {
     "name": "stderr",
     "output_type": "stream",
     "text": [
      "\n"
     ]
    }
   ],
   "source": [
    "# np.random.seed(11)\n",
    "\n",
    "# x1 = np.random.uniform(size = 1)[0]\n",
    "# x2 = np.random.uniform(size = 1)[0]\n",
    "# x3 = np.random.uniform(size = 1)[0]\n",
    "# x4 = np.random.uniform(size = 1)[0]\n",
    "# x5 = np.random.uniform(size = 1)[0]\n",
    "# test = np.array([[x1, x2, x3, x4, x5]])\n",
    "\n",
    "rep = 500\n",
    "n_sub = 500\n",
    "\n",
    "print(\"========================= B = 500 =========================\")\n",
    "\n",
    "pred = []\n",
    "var_uc = []\n",
    "var_c = []\n",
    "\n",
    "for r in tqdm(range(rep)):\n",
    "    \n",
    "    X, y = gen(500)\n",
    "    \n",
    "    model = RandomForestRegressor(n_estimators = 500)\n",
    "    model.fit(X, y, n_subsamples = n_sub, replace = False)\n",
    "    pred.append(model.predict(test)[0])\n",
    "#     var_c.append(predict_var(model, test)[0])\n",
    "    var_uc.append(predict_var(model, test, method = \"IJ\")[0])\n",
    "\n",
    "print(\"normal test: \" + str(stats.normaltest(pred)))\n",
    "# print(\"variance ratio for c: \" + str(np.mean(var_c) / np.var(pred)))\n",
    "print(\"variance ratio for uc: \" + str(np.mean(var_uc) / np.var(pred)))\n",
    "\n",
    "target = np.mean(pred)\n",
    "# count_c = 0\n",
    "# for r in range(rep):\n",
    "#     lower = pred[r] - 1.96 * np.sqrt(var_c[r])\n",
    "#     upper = pred[r] + 1.96 * np.sqrt(var_c[r])\n",
    "#     if target >= lower and target <= upper:\n",
    "#         count_c += 1\n",
    "count_uc = 0\n",
    "for r in range(rep):\n",
    "    lower = pred[r] - 1.96 * np.sqrt(var_uc[r])\n",
    "    upper = pred[r] + 1.96 * np.sqrt(var_uc[r])\n",
    "    if target >= lower and target <= upper:\n",
    "        count_uc += 1        \n",
    "# print(\"C.C. for c: \" + str(count_c / rep))\n",
    "print(\"C.C. for uc: \" + str(count_uc / rep))\n",
    "\n",
    "\n",
    "\n",
    "print(\"========================= B = 1000 =========================\")\n",
    "pred = []\n",
    "var_uc = []\n",
    "var_c = []\n",
    "\n",
    "for r in tqdm(range(rep)):\n",
    "    \n",
    "    X, y = gen(500)\n",
    "    \n",
    "    model = RandomForestRegressor(n_estimators = 1000)\n",
    "    model.fit(X, y, n_subsamples = n_sub, replace = False)\n",
    "    pred.append(model.predict(test)[0])\n",
    "#     var_c.append(predict_var(model, test)[0])\n",
    "    var_uc.append(predict_var(model, test, method = \"IJ\")[0])\n",
    "\n",
    "print(\"normal test: \" + str(stats.normaltest(pred)))\n",
    "# print(\"variance ratio for c: \" + str(np.mean(var_c) / np.var(pred)))\n",
    "print(\"variance ratio for uc: \" + str(np.mean(var_uc) / np.var(pred)))\n",
    "\n",
    "target = np.mean(pred)\n",
    "# count_c = 0\n",
    "# for r in range(rep):\n",
    "#     lower = pred[r] - 1.96 * np.sqrt(var_c[r])\n",
    "#     upper = pred[r] + 1.96 * np.sqrt(var_c[r])\n",
    "#     if target >= lower and target <= upper:\n",
    "#         count_c += 1\n",
    "count_uc = 0\n",
    "for r in range(rep):\n",
    "    lower = pred[r] - 1.96 * np.sqrt(var_uc[r])\n",
    "    upper = pred[r] + 1.96 * np.sqrt(var_uc[r])\n",
    "    if target >= lower and target <= upper:\n",
    "        count_uc += 1        \n",
    "# print(\"C.C. for c: \" + str(count_c / rep))\n",
    "print(\"C.C. for uc: \" + str(count_uc / rep))\n",
    "\n",
    "\n",
    "\n",
    "print(\"========================= B = 2500 =========================\")\n",
    "pred = []\n",
    "var_uc = []\n",
    "var_c = []\n",
    "\n",
    "for r in tqdm(range(rep)):\n",
    "    \n",
    "    X, y = gen(500)\n",
    "    \n",
    "    model = RandomForestRegressor(n_estimators = 2500)\n",
    "    model.fit(X, y, n_subsamples = n_sub, replace = False)\n",
    "    pred.append(model.predict(test)[0])\n",
    "#     var_c.append(predict_var(model, test)[0])\n",
    "    var_uc.append(predict_var(model, test, method = \"IJ\")[0])\n",
    "\n",
    "print(\"normal test: \" + str(stats.normaltest(pred)))\n",
    "# print(\"variance ratio for c: \" + str(np.mean(var_c) / np.var(pred)))\n",
    "print(\"variance ratio for uc: \" + str(np.mean(var_uc) / np.var(pred)))\n",
    "\n",
    "target = np.mean(pred)\n",
    "# count_c = 0\n",
    "# for r in range(rep):\n",
    "#     lower = pred[r] - 1.96 * np.sqrt(var_c[r])\n",
    "#     upper = pred[r] + 1.96 * np.sqrt(var_c[r])\n",
    "#     if target >= lower and target <= upper:\n",
    "#         count_c += 1\n",
    "count_uc = 0\n",
    "for r in range(rep):\n",
    "    lower = pred[r] - 1.96 * np.sqrt(var_uc[r])\n",
    "    upper = pred[r] + 1.96 * np.sqrt(var_uc[r])\n",
    "    if target >= lower and target <= upper:\n",
    "        count_uc += 1        \n",
    "# print(\"C.C. for c: \" + str(count_c / rep))\n",
    "print(\"C.C. for uc: \" + str(count_uc / rep))\n",
    "\n",
    "\n",
    "print(\"========================= B = 5000 =========================\")\n",
    "pred = []\n",
    "var_uc = []\n",
    "var_c = []\n",
    "\n",
    "for r in tqdm(range(rep)):\n",
    "    \n",
    "    X, y = gen(500)\n",
    "    \n",
    "    model = RandomForestRegressor(n_estimators = 5000)\n",
    "    model.fit(X, y, n_subsamples = n_sub, replace = False)\n",
    "    pred.append(model.predict(test)[0])\n",
    "#     var_c.append(predict_var(model, test)[0])\n",
    "    var_uc.append(predict_var(model, test, method = \"IJ\")[0])\n",
    "\n",
    "print(\"normal test: \" + str(stats.normaltest(pred)))\n",
    "# print(\"variance ratio for c: \" + str(np.mean(var_c) / np.var(pred)))\n",
    "print(\"variance ratio for uc: \" + str(np.mean(var_uc) / np.var(pred)))\n",
    "\n",
    "target = np.mean(pred)\n",
    "# count_c = 0\n",
    "# for r in range(rep):\n",
    "#     lower = pred[r] - 1.96 * np.sqrt(var_c[r])\n",
    "#     upper = pred[r] + 1.96 * np.sqrt(var_c[r])\n",
    "#     if target >= lower and target <= upper:\n",
    "#         count_c += 1\n",
    "count_uc = 0\n",
    "for r in range(rep):\n",
    "    lower = pred[r] - 1.96 * np.sqrt(var_uc[r])\n",
    "    upper = pred[r] + 1.96 * np.sqrt(var_uc[r])\n",
    "    if target >= lower and target <= upper:\n",
    "        count_uc += 1        \n",
    "# print(\"C.C. for c: \" + str(count_c / rep))\n",
    "print(\"C.C. for uc: \" + str(count_uc / rep))\n"
   ]
  },
  {
   "cell_type": "code",
   "execution_count": null,
   "metadata": {},
   "outputs": [],
   "source": []
  },
  {
   "cell_type": "code",
   "execution_count": null,
   "metadata": {},
   "outputs": [],
   "source": []
  },
  {
   "cell_type": "markdown",
   "metadata": {},
   "source": [
    "### test point 3"
   ]
  },
  {
   "cell_type": "code",
   "execution_count": 14,
   "metadata": {},
   "outputs": [
    {
     "name": "stderr",
     "output_type": "stream",
     "text": [
      "\r",
      "  0%|          | 0/500 [00:00<?, ?it/s]"
     ]
    },
    {
     "name": "stdout",
     "output_type": "stream",
     "text": [
      "========================= B = 500 =========================\n"
     ]
    },
    {
     "name": "stderr",
     "output_type": "stream",
     "text": [
      "100%|██████████| 500/500 [05:19<00:00,  1.57it/s]\n",
      "  0%|          | 0/500 [00:00<?, ?it/s]"
     ]
    },
    {
     "name": "stdout",
     "output_type": "stream",
     "text": [
      "normal test: NormaltestResult(statistic=3.902339533193557, pvalue=0.1421077414326795)\n",
      "variance ratio for uc: 4.177394574214453\n",
      "C.C. for uc: 0.998\n",
      "========================= B = 1000 =========================\n"
     ]
    },
    {
     "name": "stderr",
     "output_type": "stream",
     "text": [
      "100%|██████████| 500/500 [10:33<00:00,  1.27s/it]\n",
      "  0%|          | 0/500 [00:00<?, ?it/s]"
     ]
    },
    {
     "name": "stdout",
     "output_type": "stream",
     "text": [
      "normal test: NormaltestResult(statistic=0.09987261395790169, pvalue=0.9512900131059865)\n",
      "variance ratio for uc: 2.759985341117035\n",
      "C.C. for uc: 0.998\n",
      "========================= B = 2500 =========================\n"
     ]
    },
    {
     "name": "stderr",
     "output_type": "stream",
     "text": [
      "100%|██████████| 500/500 [26:18<00:00,  3.16s/it]\n",
      "  0%|          | 0/500 [00:00<?, ?it/s]"
     ]
    },
    {
     "name": "stdout",
     "output_type": "stream",
     "text": [
      "normal test: NormaltestResult(statistic=0.4679961035266911, pvalue=0.7913633576571825)\n",
      "variance ratio for uc: 1.6239331229285963\n",
      "C.C. for uc: 0.972\n",
      "========================= B = 5000 =========================\n"
     ]
    },
    {
     "name": "stderr",
     "output_type": "stream",
     "text": [
      "100%|██████████| 500/500 [52:41<00:00,  6.32s/it]"
     ]
    },
    {
     "name": "stdout",
     "output_type": "stream",
     "text": [
      "normal test: NormaltestResult(statistic=2.1748782073432333, pvalue=0.33707861271855327)\n",
      "variance ratio for uc: 1.1624354169590987\n",
      "C.C. for uc: 0.946\n"
     ]
    },
    {
     "name": "stderr",
     "output_type": "stream",
     "text": [
      "\n"
     ]
    }
   ],
   "source": [
    "np.random.seed(13)\n",
    "\n",
    "x1 = np.random.uniform(size = 1)[0]\n",
    "x2 = np.random.uniform(size = 1)[0]\n",
    "x3 = np.random.uniform(size = 1)[0]\n",
    "x4 = np.random.uniform(size = 1)[0]\n",
    "x5 = np.random.uniform(size = 1)[0]\n",
    "test = np.array([[x1, x2, x3, x4, x5]])\n",
    "\n",
    "rep = 500\n",
    "n_sub = 100\n",
    "\n",
    "print(\"========================= B = 500 =========================\")\n",
    "\n",
    "pred = []\n",
    "var_uc = []\n",
    "var_c = []\n",
    "\n",
    "for r in tqdm(range(rep)):\n",
    "    \n",
    "    X, y = gen(500)\n",
    "    \n",
    "    model = RandomForestRegressor(n_estimators = 500)\n",
    "    model.fit(X, y, n_subsamples = n_sub, replace = False)\n",
    "    pred.append(model.predict(test)[0])\n",
    "#     var_c.append(predict_var(model, test)[0])\n",
    "    var_uc.append(predict_var(model, test, method = \"IJ\")[0])\n",
    "\n",
    "print(\"normal test: \" + str(stats.normaltest(pred)))\n",
    "# print(\"variance ratio for c: \" + str(np.mean(var_c) / np.var(pred)))\n",
    "print(\"variance ratio for uc: \" + str(np.mean(var_uc) / np.var(pred)))\n",
    "\n",
    "target = np.mean(pred)\n",
    "# count_c = 0\n",
    "# for r in range(rep):\n",
    "#     lower = pred[r] - 1.96 * np.sqrt(var_c[r])\n",
    "#     upper = pred[r] + 1.96 * np.sqrt(var_c[r])\n",
    "#     if target >= lower and target <= upper:\n",
    "#         count_c += 1\n",
    "count_uc = 0\n",
    "for r in range(rep):\n",
    "    lower = pred[r] - 1.96 * np.sqrt(var_uc[r])\n",
    "    upper = pred[r] + 1.96 * np.sqrt(var_uc[r])\n",
    "    if target >= lower and target <= upper:\n",
    "        count_uc += 1        \n",
    "# print(\"C.C. for c: \" + str(count_c / rep))\n",
    "print(\"C.C. for uc: \" + str(count_uc / rep))\n",
    "\n",
    "\n",
    "\n",
    "print(\"========================= B = 1000 =========================\")\n",
    "pred = []\n",
    "var_uc = []\n",
    "var_c = []\n",
    "\n",
    "for r in tqdm(range(rep)):\n",
    "    \n",
    "    X, y = gen(500)\n",
    "    \n",
    "    model = RandomForestRegressor(n_estimators = 1000)\n",
    "    model.fit(X, y, n_subsamples = n_sub, replace = False)\n",
    "    pred.append(model.predict(test)[0])\n",
    "#     var_c.append(predict_var(model, test)[0])\n",
    "    var_uc.append(predict_var(model, test, method = \"IJ\")[0])\n",
    "\n",
    "print(\"normal test: \" + str(stats.normaltest(pred)))\n",
    "# print(\"variance ratio for c: \" + str(np.mean(var_c) / np.var(pred)))\n",
    "print(\"variance ratio for uc: \" + str(np.mean(var_uc) / np.var(pred)))\n",
    "\n",
    "target = np.mean(pred)\n",
    "# count_c = 0\n",
    "# for r in range(rep):\n",
    "#     lower = pred[r] - 1.96 * np.sqrt(var_c[r])\n",
    "#     upper = pred[r] + 1.96 * np.sqrt(var_c[r])\n",
    "#     if target >= lower and target <= upper:\n",
    "#         count_c += 1\n",
    "count_uc = 0\n",
    "for r in range(rep):\n",
    "    lower = pred[r] - 1.96 * np.sqrt(var_uc[r])\n",
    "    upper = pred[r] + 1.96 * np.sqrt(var_uc[r])\n",
    "    if target >= lower and target <= upper:\n",
    "        count_uc += 1        \n",
    "# print(\"C.C. for c: \" + str(count_c / rep))\n",
    "print(\"C.C. for uc: \" + str(count_uc / rep))\n",
    "\n",
    "\n",
    "\n",
    "print(\"========================= B = 2500 =========================\")\n",
    "pred = []\n",
    "var_uc = []\n",
    "var_c = []\n",
    "\n",
    "for r in tqdm(range(rep)):\n",
    "    \n",
    "    X, y = gen(500)\n",
    "    \n",
    "    model = RandomForestRegressor(n_estimators = 2500)\n",
    "    model.fit(X, y, n_subsamples = n_sub, replace = False)\n",
    "    pred.append(model.predict(test)[0])\n",
    "#     var_c.append(predict_var(model, test)[0])\n",
    "    var_uc.append(predict_var(model, test, method = \"IJ\")[0])\n",
    "\n",
    "print(\"normal test: \" + str(stats.normaltest(pred)))\n",
    "# print(\"variance ratio for c: \" + str(np.mean(var_c) / np.var(pred)))\n",
    "print(\"variance ratio for uc: \" + str(np.mean(var_uc) / np.var(pred)))\n",
    "\n",
    "target = np.mean(pred)\n",
    "# count_c = 0\n",
    "# for r in range(rep):\n",
    "#     lower = pred[r] - 1.96 * np.sqrt(var_c[r])\n",
    "#     upper = pred[r] + 1.96 * np.sqrt(var_c[r])\n",
    "#     if target >= lower and target <= upper:\n",
    "#         count_c += 1\n",
    "count_uc = 0\n",
    "for r in range(rep):\n",
    "    lower = pred[r] - 1.96 * np.sqrt(var_uc[r])\n",
    "    upper = pred[r] + 1.96 * np.sqrt(var_uc[r])\n",
    "    if target >= lower and target <= upper:\n",
    "        count_uc += 1        \n",
    "# print(\"C.C. for c: \" + str(count_c / rep))\n",
    "print(\"C.C. for uc: \" + str(count_uc / rep))\n",
    "\n",
    "\n",
    "print(\"========================= B = 5000 =========================\")\n",
    "pred = []\n",
    "var_uc = []\n",
    "var_c = []\n",
    "\n",
    "for r in tqdm(range(rep)):\n",
    "    \n",
    "    X, y = gen(500)\n",
    "    \n",
    "    model = RandomForestRegressor(n_estimators = 5000)\n",
    "    model.fit(X, y, n_subsamples = n_sub, replace = False)\n",
    "    pred.append(model.predict(test)[0])\n",
    "#     var_c.append(predict_var(model, test)[0])\n",
    "    var_uc.append(predict_var(model, test, method = \"IJ\")[0])\n",
    "\n",
    "print(\"normal test: \" + str(stats.normaltest(pred)))\n",
    "# print(\"variance ratio for c: \" + str(np.mean(var_c) / np.var(pred)))\n",
    "print(\"variance ratio for uc: \" + str(np.mean(var_uc) / np.var(pred)))\n",
    "\n",
    "target = np.mean(pred)\n",
    "# count_c = 0\n",
    "# for r in range(rep):\n",
    "#     lower = pred[r] - 1.96 * np.sqrt(var_c[r])\n",
    "#     upper = pred[r] + 1.96 * np.sqrt(var_c[r])\n",
    "#     if target >= lower and target <= upper:\n",
    "#         count_c += 1\n",
    "count_uc = 0\n",
    "for r in range(rep):\n",
    "    lower = pred[r] - 1.96 * np.sqrt(var_uc[r])\n",
    "    upper = pred[r] + 1.96 * np.sqrt(var_uc[r])\n",
    "    if target >= lower and target <= upper:\n",
    "        count_uc += 1        \n",
    "# print(\"C.C. for c: \" + str(count_c / rep))\n",
    "print(\"C.C. for uc: \" + str(count_uc / rep))\n"
   ]
  },
  {
   "cell_type": "code",
   "execution_count": null,
   "metadata": {},
   "outputs": [],
   "source": []
  },
  {
   "cell_type": "code",
   "execution_count": 15,
   "metadata": {},
   "outputs": [
    {
     "name": "stderr",
     "output_type": "stream",
     "text": [
      "\r",
      "  0%|          | 0/500 [00:00<?, ?it/s]"
     ]
    },
    {
     "name": "stdout",
     "output_type": "stream",
     "text": [
      "========================= B = 500 =========================\n"
     ]
    },
    {
     "name": "stderr",
     "output_type": "stream",
     "text": [
      "100%|██████████| 500/500 [07:00<00:00,  1.19it/s]\n",
      "  0%|          | 0/500 [00:00<?, ?it/s]"
     ]
    },
    {
     "name": "stdout",
     "output_type": "stream",
     "text": [
      "normal test: NormaltestResult(statistic=1.394159591740181, pvalue=0.4980375536473911)\n",
      "variance ratio for uc: 2.3565567037318766\n",
      "C.C. for uc: 0.99\n",
      "========================= B = 1000 =========================\n"
     ]
    },
    {
     "name": "stderr",
     "output_type": "stream",
     "text": [
      "100%|██████████| 500/500 [13:59<00:00,  1.68s/it]\n",
      "  0%|          | 0/500 [00:00<?, ?it/s]"
     ]
    },
    {
     "name": "stdout",
     "output_type": "stream",
     "text": [
      "normal test: NormaltestResult(statistic=0.041813099463316926, pvalue=0.9793104771203334)\n",
      "variance ratio for uc: 1.6739872302235885\n",
      "C.C. for uc: 0.972\n",
      "========================= B = 2500 =========================\n"
     ]
    },
    {
     "name": "stderr",
     "output_type": "stream",
     "text": [
      "100%|██████████| 500/500 [34:53<00:00,  4.19s/it]\n",
      "  0%|          | 0/500 [00:00<?, ?it/s]"
     ]
    },
    {
     "name": "stdout",
     "output_type": "stream",
     "text": [
      "normal test: NormaltestResult(statistic=2.3659474253911292, pvalue=0.30636633719725637)\n",
      "variance ratio for uc: 0.762794685635235\n",
      "C.C. for uc: 0.896\n",
      "========================= B = 5000 =========================\n"
     ]
    },
    {
     "name": "stderr",
     "output_type": "stream",
     "text": [
      "100%|██████████| 500/500 [1:09:46<00:00,  8.37s/it]"
     ]
    },
    {
     "name": "stdout",
     "output_type": "stream",
     "text": [
      "normal test: NormaltestResult(statistic=1.9362427241009903, pvalue=0.3797958672490879)\n",
      "variance ratio for uc: 0.5756318717026367\n",
      "C.C. for uc: 0.834\n"
     ]
    },
    {
     "name": "stderr",
     "output_type": "stream",
     "text": [
      "\n"
     ]
    }
   ],
   "source": [
    "# np.random.seed(7)\n",
    "\n",
    "# x1 = np.random.uniform(size = 1)[0]\n",
    "# x2 = np.random.uniform(size = 1)[0]\n",
    "# x3 = np.random.uniform(size = 1)[0]\n",
    "# x4 = np.random.uniform(size = 1)[0]\n",
    "# x5 = np.random.uniform(size = 1)[0]\n",
    "# test = np.array([[x1, x2, x3, x4, x5]])\n",
    "\n",
    "rep = 500\n",
    "n_sub = 250\n",
    "\n",
    "print(\"========================= B = 500 =========================\")\n",
    "\n",
    "pred = []\n",
    "var_uc = []\n",
    "var_c = []\n",
    "\n",
    "for r in tqdm(range(rep)):\n",
    "    \n",
    "    X, y = gen(500)\n",
    "    \n",
    "    model = RandomForestRegressor(n_estimators = 500)\n",
    "    model.fit(X, y, n_subsamples = n_sub, replace = False)\n",
    "    pred.append(model.predict(test)[0])\n",
    "#     var_c.append(predict_var(model, test)[0])\n",
    "    var_uc.append(predict_var(model, test, method = \"IJ\")[0])\n",
    "\n",
    "print(\"normal test: \" + str(stats.normaltest(pred)))\n",
    "# print(\"variance ratio for c: \" + str(np.mean(var_c) / np.var(pred)))\n",
    "print(\"variance ratio for uc: \" + str(np.mean(var_uc) / np.var(pred)))\n",
    "\n",
    "target = np.mean(pred)\n",
    "# count_c = 0\n",
    "# for r in range(rep):\n",
    "#     lower = pred[r] - 1.96 * np.sqrt(var_c[r])\n",
    "#     upper = pred[r] + 1.96 * np.sqrt(var_c[r])\n",
    "#     if target >= lower and target <= upper:\n",
    "#         count_c += 1\n",
    "count_uc = 0\n",
    "for r in range(rep):\n",
    "    lower = pred[r] - 1.96 * np.sqrt(var_uc[r])\n",
    "    upper = pred[r] + 1.96 * np.sqrt(var_uc[r])\n",
    "    if target >= lower and target <= upper:\n",
    "        count_uc += 1        \n",
    "# print(\"C.C. for c: \" + str(count_c / rep))\n",
    "print(\"C.C. for uc: \" + str(count_uc / rep))\n",
    "\n",
    "\n",
    "\n",
    "print(\"========================= B = 1000 =========================\")\n",
    "pred = []\n",
    "var_uc = []\n",
    "var_c = []\n",
    "\n",
    "for r in tqdm(range(rep)):\n",
    "    \n",
    "    X, y = gen(500)\n",
    "    \n",
    "    model = RandomForestRegressor(n_estimators = 1000)\n",
    "    model.fit(X, y, n_subsamples = n_sub, replace = False)\n",
    "    pred.append(model.predict(test)[0])\n",
    "#     var_c.append(predict_var(model, test)[0])\n",
    "    var_uc.append(predict_var(model, test, method = \"IJ\")[0])\n",
    "\n",
    "print(\"normal test: \" + str(stats.normaltest(pred)))\n",
    "# print(\"variance ratio for c: \" + str(np.mean(var_c) / np.var(pred)))\n",
    "print(\"variance ratio for uc: \" + str(np.mean(var_uc) / np.var(pred)))\n",
    "\n",
    "target = np.mean(pred)\n",
    "# count_c = 0\n",
    "# for r in range(rep):\n",
    "#     lower = pred[r] - 1.96 * np.sqrt(var_c[r])\n",
    "#     upper = pred[r] + 1.96 * np.sqrt(var_c[r])\n",
    "#     if target >= lower and target <= upper:\n",
    "#         count_c += 1\n",
    "count_uc = 0\n",
    "for r in range(rep):\n",
    "    lower = pred[r] - 1.96 * np.sqrt(var_uc[r])\n",
    "    upper = pred[r] + 1.96 * np.sqrt(var_uc[r])\n",
    "    if target >= lower and target <= upper:\n",
    "        count_uc += 1        \n",
    "# print(\"C.C. for c: \" + str(count_c / rep))\n",
    "print(\"C.C. for uc: \" + str(count_uc / rep))\n",
    "\n",
    "\n",
    "\n",
    "print(\"========================= B = 2500 =========================\")\n",
    "pred = []\n",
    "var_uc = []\n",
    "var_c = []\n",
    "\n",
    "for r in tqdm(range(rep)):\n",
    "    \n",
    "    X, y = gen(500)\n",
    "    \n",
    "    model = RandomForestRegressor(n_estimators = 2500)\n",
    "    model.fit(X, y, n_subsamples = n_sub, replace = False)\n",
    "    pred.append(model.predict(test)[0])\n",
    "#     var_c.append(predict_var(model, test)[0])\n",
    "    var_uc.append(predict_var(model, test, method = \"IJ\")[0])\n",
    "\n",
    "print(\"normal test: \" + str(stats.normaltest(pred)))\n",
    "# print(\"variance ratio for c: \" + str(np.mean(var_c) / np.var(pred)))\n",
    "print(\"variance ratio for uc: \" + str(np.mean(var_uc) / np.var(pred)))\n",
    "\n",
    "target = np.mean(pred)\n",
    "# count_c = 0\n",
    "# for r in range(rep):\n",
    "#     lower = pred[r] - 1.96 * np.sqrt(var_c[r])\n",
    "#     upper = pred[r] + 1.96 * np.sqrt(var_c[r])\n",
    "#     if target >= lower and target <= upper:\n",
    "#         count_c += 1\n",
    "count_uc = 0\n",
    "for r in range(rep):\n",
    "    lower = pred[r] - 1.96 * np.sqrt(var_uc[r])\n",
    "    upper = pred[r] + 1.96 * np.sqrt(var_uc[r])\n",
    "    if target >= lower and target <= upper:\n",
    "        count_uc += 1        \n",
    "# print(\"C.C. for c: \" + str(count_c / rep))\n",
    "print(\"C.C. for uc: \" + str(count_uc / rep))\n",
    "\n",
    "\n",
    "print(\"========================= B = 5000 =========================\")\n",
    "pred = []\n",
    "var_uc = []\n",
    "var_c = []\n",
    "\n",
    "for r in tqdm(range(rep)):\n",
    "    \n",
    "    X, y = gen(500)\n",
    "    \n",
    "    model = RandomForestRegressor(n_estimators = 5000)\n",
    "    model.fit(X, y, n_subsamples = n_sub, replace = False)\n",
    "    pred.append(model.predict(test)[0])\n",
    "#     var_c.append(predict_var(model, test)[0])\n",
    "    var_uc.append(predict_var(model, test, method = \"IJ\")[0])\n",
    "\n",
    "print(\"normal test: \" + str(stats.normaltest(pred)))\n",
    "# print(\"variance ratio for c: \" + str(np.mean(var_c) / np.var(pred)))\n",
    "print(\"variance ratio for uc: \" + str(np.mean(var_uc) / np.var(pred)))\n",
    "\n",
    "target = np.mean(pred)\n",
    "# count_c = 0\n",
    "# for r in range(rep):\n",
    "#     lower = pred[r] - 1.96 * np.sqrt(var_c[r])\n",
    "#     upper = pred[r] + 1.96 * np.sqrt(var_c[r])\n",
    "#     if target >= lower and target <= upper:\n",
    "#         count_c += 1\n",
    "count_uc = 0\n",
    "for r in range(rep):\n",
    "    lower = pred[r] - 1.96 * np.sqrt(var_uc[r])\n",
    "    upper = pred[r] + 1.96 * np.sqrt(var_uc[r])\n",
    "    if target >= lower and target <= upper:\n",
    "        count_uc += 1        \n",
    "# print(\"C.C. for c: \" + str(count_c / rep))\n",
    "print(\"C.C. for uc: \" + str(count_uc / rep))\n"
   ]
  },
  {
   "cell_type": "code",
   "execution_count": null,
   "metadata": {},
   "outputs": [],
   "source": []
  },
  {
   "cell_type": "code",
   "execution_count": 16,
   "metadata": {},
   "outputs": [
    {
     "name": "stderr",
     "output_type": "stream",
     "text": [
      "\r",
      "  0%|          | 0/500 [00:00<?, ?it/s]"
     ]
    },
    {
     "name": "stdout",
     "output_type": "stream",
     "text": [
      "========================= B = 500 =========================\n"
     ]
    },
    {
     "name": "stderr",
     "output_type": "stream",
     "text": [
      "100%|██████████| 500/500 [10:26<00:00,  1.25s/it]\n",
      "  0%|          | 0/500 [00:00<?, ?it/s]"
     ]
    },
    {
     "name": "stdout",
     "output_type": "stream",
     "text": [
      "normal test: NormaltestResult(statistic=7.099276847840463, pvalue=0.02873502767475506)\n",
      "variance ratio for uc: 0.00016132783171664226\n",
      "C.C. for uc: 0.004\n",
      "========================= B = 1000 =========================\n"
     ]
    },
    {
     "name": "stderr",
     "output_type": "stream",
     "text": [
      "100%|██████████| 500/500 [20:47<00:00,  2.49s/it]\n",
      "  0%|          | 0/500 [00:00<?, ?it/s]"
     ]
    },
    {
     "name": "stdout",
     "output_type": "stream",
     "text": [
      "normal test: NormaltestResult(statistic=8.520536496251461, pvalue=0.014118514637065656)\n",
      "variance ratio for uc: 8.484956057184751e-05\n",
      "C.C. for uc: 0.014\n",
      "========================= B = 2500 =========================\n"
     ]
    },
    {
     "name": "stderr",
     "output_type": "stream",
     "text": [
      "100%|██████████| 500/500 [52:00<00:00,  6.24s/it]\n",
      "  0%|          | 0/500 [00:00<?, ?it/s]"
     ]
    },
    {
     "name": "stdout",
     "output_type": "stream",
     "text": [
      "normal test: NormaltestResult(statistic=13.336765139583738, pvalue=0.001270451957474542)\n",
      "variance ratio for uc: 3.4812761937803986e-05\n",
      "C.C. for uc: 0.006\n",
      "========================= B = 5000 =========================\n"
     ]
    },
    {
     "name": "stderr",
     "output_type": "stream",
     "text": [
      "100%|██████████| 500/500 [1:44:29<00:00, 12.54s/it]"
     ]
    },
    {
     "name": "stdout",
     "output_type": "stream",
     "text": [
      "normal test: NormaltestResult(statistic=10.923771663277495, pvalue=0.004245541813651881)\n",
      "variance ratio for uc: 1.6525627907195875e-05\n",
      "C.C. for uc: 0.006\n"
     ]
    },
    {
     "name": "stderr",
     "output_type": "stream",
     "text": [
      "\n"
     ]
    }
   ],
   "source": [
    "# np.random.seed(7)\n",
    "\n",
    "# x1 = np.random.uniform(size = 1)[0]\n",
    "# x2 = np.random.uniform(size = 1)[0]\n",
    "# x3 = np.random.uniform(size = 1)[0]\n",
    "# x4 = np.random.uniform(size = 1)[0]\n",
    "# x5 = np.random.uniform(size = 1)[0]\n",
    "# test = np.array([[x1, x2, x3, x4, x5]])\n",
    "\n",
    "rep = 500\n",
    "n_sub = 500\n",
    "\n",
    "print(\"========================= B = 500 =========================\")\n",
    "\n",
    "pred = []\n",
    "var_uc = []\n",
    "var_c = []\n",
    "\n",
    "for r in tqdm(range(rep)):\n",
    "    \n",
    "    X, y = gen(500)\n",
    "    \n",
    "    model = RandomForestRegressor(n_estimators = 500)\n",
    "    model.fit(X, y, n_subsamples = n_sub, replace = False)\n",
    "    pred.append(model.predict(test)[0])\n",
    "#     var_c.append(predict_var(model, test)[0])\n",
    "    var_uc.append(predict_var(model, test, method = \"IJ\")[0])\n",
    "\n",
    "print(\"normal test: \" + str(stats.normaltest(pred)))\n",
    "# print(\"variance ratio for c: \" + str(np.mean(var_c) / np.var(pred)))\n",
    "print(\"variance ratio for uc: \" + str(np.mean(var_uc) / np.var(pred)))\n",
    "\n",
    "target = np.mean(pred)\n",
    "# count_c = 0\n",
    "# for r in range(rep):\n",
    "#     lower = pred[r] - 1.96 * np.sqrt(var_c[r])\n",
    "#     upper = pred[r] + 1.96 * np.sqrt(var_c[r])\n",
    "#     if target >= lower and target <= upper:\n",
    "#         count_c += 1\n",
    "count_uc = 0\n",
    "for r in range(rep):\n",
    "    lower = pred[r] - 1.96 * np.sqrt(var_uc[r])\n",
    "    upper = pred[r] + 1.96 * np.sqrt(var_uc[r])\n",
    "    if target >= lower and target <= upper:\n",
    "        count_uc += 1        \n",
    "# print(\"C.C. for c: \" + str(count_c / rep))\n",
    "print(\"C.C. for uc: \" + str(count_uc / rep))\n",
    "\n",
    "\n",
    "\n",
    "print(\"========================= B = 1000 =========================\")\n",
    "pred = []\n",
    "var_uc = []\n",
    "var_c = []\n",
    "\n",
    "for r in tqdm(range(rep)):\n",
    "    \n",
    "    X, y = gen(500)\n",
    "    \n",
    "    model = RandomForestRegressor(n_estimators = 1000)\n",
    "    model.fit(X, y, n_subsamples = n_sub, replace = False)\n",
    "    pred.append(model.predict(test)[0])\n",
    "#     var_c.append(predict_var(model, test)[0])\n",
    "    var_uc.append(predict_var(model, test, method = \"IJ\")[0])\n",
    "\n",
    "print(\"normal test: \" + str(stats.normaltest(pred)))\n",
    "# print(\"variance ratio for c: \" + str(np.mean(var_c) / np.var(pred)))\n",
    "print(\"variance ratio for uc: \" + str(np.mean(var_uc) / np.var(pred)))\n",
    "\n",
    "target = np.mean(pred)\n",
    "# count_c = 0\n",
    "# for r in range(rep):\n",
    "#     lower = pred[r] - 1.96 * np.sqrt(var_c[r])\n",
    "#     upper = pred[r] + 1.96 * np.sqrt(var_c[r])\n",
    "#     if target >= lower and target <= upper:\n",
    "#         count_c += 1\n",
    "count_uc = 0\n",
    "for r in range(rep):\n",
    "    lower = pred[r] - 1.96 * np.sqrt(var_uc[r])\n",
    "    upper = pred[r] + 1.96 * np.sqrt(var_uc[r])\n",
    "    if target >= lower and target <= upper:\n",
    "        count_uc += 1        \n",
    "# print(\"C.C. for c: \" + str(count_c / rep))\n",
    "print(\"C.C. for uc: \" + str(count_uc / rep))\n",
    "\n",
    "\n",
    "\n",
    "print(\"========================= B = 2500 =========================\")\n",
    "pred = []\n",
    "var_uc = []\n",
    "var_c = []\n",
    "\n",
    "for r in tqdm(range(rep)):\n",
    "    \n",
    "    X, y = gen(500)\n",
    "    \n",
    "    model = RandomForestRegressor(n_estimators = 2500)\n",
    "    model.fit(X, y, n_subsamples = n_sub, replace = False)\n",
    "    pred.append(model.predict(test)[0])\n",
    "#     var_c.append(predict_var(model, test)[0])\n",
    "    var_uc.append(predict_var(model, test, method = \"IJ\")[0])\n",
    "\n",
    "print(\"normal test: \" + str(stats.normaltest(pred)))\n",
    "# print(\"variance ratio for c: \" + str(np.mean(var_c) / np.var(pred)))\n",
    "print(\"variance ratio for uc: \" + str(np.mean(var_uc) / np.var(pred)))\n",
    "\n",
    "target = np.mean(pred)\n",
    "# count_c = 0\n",
    "# for r in range(rep):\n",
    "#     lower = pred[r] - 1.96 * np.sqrt(var_c[r])\n",
    "#     upper = pred[r] + 1.96 * np.sqrt(var_c[r])\n",
    "#     if target >= lower and target <= upper:\n",
    "#         count_c += 1\n",
    "count_uc = 0\n",
    "for r in range(rep):\n",
    "    lower = pred[r] - 1.96 * np.sqrt(var_uc[r])\n",
    "    upper = pred[r] + 1.96 * np.sqrt(var_uc[r])\n",
    "    if target >= lower and target <= upper:\n",
    "        count_uc += 1        \n",
    "# print(\"C.C. for c: \" + str(count_c / rep))\n",
    "print(\"C.C. for uc: \" + str(count_uc / rep))\n",
    "\n",
    "\n",
    "print(\"========================= B = 5000 =========================\")\n",
    "pred = []\n",
    "var_uc = []\n",
    "var_c = []\n",
    "\n",
    "for r in tqdm(range(rep)):\n",
    "    \n",
    "    X, y = gen(500)\n",
    "    \n",
    "    model = RandomForestRegressor(n_estimators = 5000)\n",
    "    model.fit(X, y, n_subsamples = n_sub, replace = False)\n",
    "    pred.append(model.predict(test)[0])\n",
    "#     var_c.append(predict_var(model, test)[0])\n",
    "    var_uc.append(predict_var(model, test, method = \"IJ\")[0])\n",
    "\n",
    "print(\"normal test: \" + str(stats.normaltest(pred)))\n",
    "# print(\"variance ratio for c: \" + str(np.mean(var_c) / np.var(pred)))\n",
    "print(\"variance ratio for uc: \" + str(np.mean(var_uc) / np.var(pred)))\n",
    "\n",
    "target = np.mean(pred)\n",
    "# count_c = 0\n",
    "# for r in range(rep):\n",
    "#     lower = pred[r] - 1.96 * np.sqrt(var_c[r])\n",
    "#     upper = pred[r] + 1.96 * np.sqrt(var_c[r])\n",
    "#     if target >= lower and target <= upper:\n",
    "#         count_c += 1\n",
    "count_uc = 0\n",
    "for r in range(rep):\n",
    "    lower = pred[r] - 1.96 * np.sqrt(var_uc[r])\n",
    "    upper = pred[r] + 1.96 * np.sqrt(var_uc[r])\n",
    "    if target >= lower and target <= upper:\n",
    "        count_uc += 1        \n",
    "# print(\"C.C. for c: \" + str(count_c / rep))\n",
    "print(\"C.C. for uc: \" + str(count_uc / rep))\n"
   ]
  },
  {
   "cell_type": "code",
   "execution_count": null,
   "metadata": {},
   "outputs": [],
   "source": []
  },
  {
   "cell_type": "code",
   "execution_count": null,
   "metadata": {},
   "outputs": [],
   "source": []
  },
  {
   "cell_type": "code",
   "execution_count": null,
   "metadata": {},
   "outputs": [],
   "source": []
  }
 ],
 "metadata": {
  "kernelspec": {
   "display_name": "Python 3",
   "language": "python",
   "name": "python3"
  },
  "language_info": {
   "codemirror_mode": {
    "name": "ipython",
    "version": 3
   },
   "file_extension": ".py",
   "mimetype": "text/x-python",
   "name": "python",
   "nbconvert_exporter": "python",
   "pygments_lexer": "ipython3",
   "version": "3.8.3"
  }
 },
 "nbformat": 4,
 "nbformat_minor": 2
}
