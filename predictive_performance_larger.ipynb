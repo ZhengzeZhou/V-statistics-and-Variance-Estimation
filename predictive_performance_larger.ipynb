{
 "cells": [
  {
   "cell_type": "code",
   "execution_count": 1,
   "metadata": {},
   "outputs": [],
   "source": [
    "# import sys\n",
    "# sys.path\n",
    "# sys.path.insert(0, '/Users/zhengzezhou/scikit-learn')"
   ]
  },
  {
   "cell_type": "code",
   "execution_count": 2,
   "metadata": {},
   "outputs": [
    {
     "name": "stderr",
     "output_type": "stream",
     "text": [
      "/Users/zhengzezhou/scikit-learn/sklearn/utils/__init__.py:4: DeprecationWarning: Using or importing the ABCs from 'collections' instead of from 'collections.abc' is deprecated since Python 3.3, and in 3.9 it will stop working\n",
      "  from collections import Sequence\n",
      "/Users/zhengzezhou/scikit-learn/sklearn/model_selection/_split.py:18: DeprecationWarning: Using or importing the ABCs from 'collections' instead of from 'collections.abc' is deprecated since Python 3.3, and in 3.9 it will stop working\n",
      "  from collections import Iterable\n",
      "/Users/zhengzezhou/scikit-learn/sklearn/model_selection/_search.py:16: DeprecationWarning: Using or importing the ABCs from 'collections' instead of from 'collections.abc' is deprecated since Python 3.3, and in 3.9 it will stop working\n",
      "  from collections import Mapping, namedtuple, defaultdict, Sequence\n"
     ]
    }
   ],
   "source": [
    "import numpy as np\n",
    "from sklearn.ensemble import RandomForestClassifier\n",
    "from sklearn.ensemble import RandomForestRegressor\n",
    "from sklearn.model_selection import train_test_split\n",
    "from sklearn.metrics import mean_squared_error\n",
    "from sklearn.metrics import accuracy_score\n",
    "import pandas as pd"
   ]
  },
  {
   "cell_type": "markdown",
   "metadata": {},
   "source": [
    "### boston"
   ]
  },
  {
   "cell_type": "code",
   "execution_count": 3,
   "metadata": {},
   "outputs": [
    {
     "name": "stdout",
     "output_type": "stream",
     "text": [
      "(506, 13)\n"
     ]
    }
   ],
   "source": [
    "from sklearn.datasets import load_boston\n",
    "boston = load_boston(return_X_y = False)\n",
    "\n",
    "print(boston['data'].shape)\n",
    "\n",
    "X_train, X_test, y_train, y_test = train_test_split(boston['data'], boston['target'], test_size = 0.2)\n",
    "\n",
    "per_sub = [0.2, 0.4, 0.6, 0.8, 1.0]\n",
    "rep = 20\n",
    "n = len(X_train)\n",
    "p = len(X_train[0])"
   ]
  },
  {
   "cell_type": "code",
   "execution_count": 4,
   "metadata": {},
   "outputs": [],
   "source": [
    "U_train = []\n",
    "U_test = []\n",
    "\n",
    "for sub in per_sub:\n",
    "    temp_train = []\n",
    "    temp_test = []\n",
    "    for r in range(rep):\n",
    "        model = RandomForestRegressor(n_estimators = 1000, max_features = int(p / 3))\n",
    "        model.fit(X_train, y_train, n_subsamples = int(n * sub), replace = False)\n",
    "        temp_train.append(np.sqrt(mean_squared_error(y_train, model.predict(X_train))))\n",
    "        temp_test.append(np.sqrt(mean_squared_error(y_test, model.predict(X_test))))\n",
    "    U_train.append(temp_train)\n",
    "    U_test.append(temp_test)     "
   ]
  },
  {
   "cell_type": "code",
   "execution_count": 5,
   "metadata": {},
   "outputs": [
    {
     "name": "stdout",
     "output_type": "stream",
     "text": [
      "rmse: [3.75058501 3.31308708 3.15858238 3.05928658 3.08770467]\n",
      "rmse(std): [0.02474618 0.03401994 0.02510843 0.0256797  0.02435149]\n"
     ]
    }
   ],
   "source": [
    "print(\"rmse: \" + str(np.mean(U_test, axis = 1)))\n",
    "print(\"rmse(std): \" + str(np.std(U_test, axis = 1)))"
   ]
  },
  {
   "cell_type": "code",
   "execution_count": 6,
   "metadata": {},
   "outputs": [],
   "source": [
    "V_train = []\n",
    "V_test = []\n",
    "\n",
    "for sub in per_sub:\n",
    "    temp_train = []\n",
    "    temp_test = []\n",
    "    for r in range(rep):\n",
    "        model = RandomForestRegressor(n_estimators = 1000, max_features = int(p / 3))\n",
    "        model.fit(X_train, y_train, n_subsamples = int(n * sub), replace = True)\n",
    "        temp_train.append(np.sqrt(mean_squared_error(y_train, model.predict(X_train))))\n",
    "        temp_test.append(np.sqrt(mean_squared_error(y_test, model.predict(X_test))))\n",
    "    V_train.append(temp_train)\n",
    "    V_test.append(temp_test)     "
   ]
  },
  {
   "cell_type": "code",
   "execution_count": 7,
   "metadata": {},
   "outputs": [
    {
     "name": "stdout",
     "output_type": "stream",
     "text": [
      "rmse: [3.81256829 3.40145636 3.25786284 3.17717517 3.12340616]\n",
      "rmse(std): [0.04104563 0.02359224 0.02519195 0.02192791 0.02687008]\n"
     ]
    }
   ],
   "source": [
    "print(\"rmse: \" + str(np.mean(V_test, axis = 1)))\n",
    "print(\"rmse(std): \" + str(np.std(V_test, axis = 1)))"
   ]
  },
  {
   "cell_type": "code",
   "execution_count": null,
   "metadata": {},
   "outputs": [],
   "source": []
  },
  {
   "cell_type": "markdown",
   "metadata": {},
   "source": [
    "### iris"
   ]
  },
  {
   "cell_type": "code",
   "execution_count": 48,
   "metadata": {},
   "outputs": [
    {
     "name": "stdout",
     "output_type": "stream",
     "text": [
      "(150, 4)\n"
     ]
    }
   ],
   "source": [
    "from sklearn.datasets import load_iris\n",
    "iris = load_iris(return_X_y = False)\n",
    "\n",
    "print(iris['data'].shape)\n",
    "\n",
    "X_train, X_test, y_train, y_test = train_test_split(iris['data'], iris['target'], test_size = 0.2)\n",
    "\n",
    "per_sub = [0.2, 0.4, 0.6, 0.8, 1.0]\n",
    "rep = 20\n",
    "n = len(X_train)\n",
    "p = len(X_train[0])"
   ]
  },
  {
   "cell_type": "code",
   "execution_count": 49,
   "metadata": {},
   "outputs": [],
   "source": [
    "U_train = []\n",
    "U_test = []\n",
    "\n",
    "for sub in per_sub:\n",
    "    temp_train = []\n",
    "    temp_test = []\n",
    "    for r in range(rep):\n",
    "        model = RandomForestClassifier(n_estimators = 1000)\n",
    "        model.fit(X_train, y_train, n_subsamples = int(n * sub), replace = False)\n",
    "        temp_train.append(accuracy_score(y_train, model.predict(X_train)))\n",
    "        temp_test.append(accuracy_score(y_test, model.predict(X_test)))\n",
    "    U_train.append(temp_train)\n",
    "    U_test.append(temp_test)     "
   ]
  },
  {
   "cell_type": "code",
   "execution_count": 50,
   "metadata": {},
   "outputs": [
    {
     "name": "stdout",
     "output_type": "stream",
     "text": [
      "accuracy: [0.93333333 0.93333333 0.93333333 0.93333333 0.93333333]\n",
      "accuracy(std): [0. 0. 0. 0. 0.]\n"
     ]
    }
   ],
   "source": [
    "print(\"accuracy: \" + str(np.mean(U_test, axis = 1)))\n",
    "print(\"accuracy(std): \" + str(np.std(U_test, axis = 1)))"
   ]
  },
  {
   "cell_type": "code",
   "execution_count": 51,
   "metadata": {},
   "outputs": [],
   "source": [
    "V_train = []\n",
    "V_test = []\n",
    "\n",
    "for sub in per_sub:\n",
    "    temp_train = []\n",
    "    temp_test = []\n",
    "    for r in range(rep):\n",
    "        model = RandomForestClassifier(n_estimators = 1000)\n",
    "        model.fit(X_train, y_train, n_subsamples = int(n * sub), replace = True)\n",
    "        temp_train.append(accuracy_score(y_train, model.predict(X_train)))\n",
    "        temp_test.append(accuracy_score(y_test, model.predict(X_test)))\n",
    "    V_train.append(temp_train)\n",
    "    V_test.append(temp_test)     "
   ]
  },
  {
   "cell_type": "code",
   "execution_count": 52,
   "metadata": {},
   "outputs": [
    {
     "name": "stdout",
     "output_type": "stream",
     "text": [
      "accuracy: [0.93333333 0.93333333 0.93333333 0.93333333 0.93333333]\n",
      "accuracy(std): [0. 0. 0. 0. 0.]\n"
     ]
    }
   ],
   "source": [
    "print(\"accuracy: \" + str(np.mean(V_test, axis = 1)))\n",
    "print(\"accuracy(std): \" + str(np.std(V_test, axis = 1)))"
   ]
  },
  {
   "cell_type": "markdown",
   "metadata": {},
   "source": [
    "### diabetes"
   ]
  },
  {
   "cell_type": "code",
   "execution_count": 43,
   "metadata": {},
   "outputs": [
    {
     "name": "stdout",
     "output_type": "stream",
     "text": [
      "(442, 10)\n"
     ]
    }
   ],
   "source": [
    "from sklearn.datasets import load_diabetes\n",
    "diabetes = load_diabetes(return_X_y = False)\n",
    "\n",
    "print(diabetes['data'].shape)\n",
    "\n",
    "X_train, X_test, y_train, y_test = train_test_split(diabetes['data'], diabetes['target'], test_size = 0.2)\n",
    "\n",
    "per_sub = [0.2, 0.4, 0.6, 0.8, 1.0]\n",
    "rep = 20\n",
    "n = len(X_train)\n",
    "p = len(X_train[0])"
   ]
  },
  {
   "cell_type": "code",
   "execution_count": 44,
   "metadata": {},
   "outputs": [],
   "source": [
    "U_train = []\n",
    "U_test = []\n",
    "\n",
    "for sub in per_sub:\n",
    "    temp_train = []\n",
    "    temp_test = []\n",
    "    for r in range(rep):\n",
    "        model = RandomForestRegressor(n_estimators = 1000, max_features = int(p / 3))\n",
    "        model.fit(X_train, y_train, n_subsamples = int(n * sub), replace = False)\n",
    "        temp_train.append(np.sqrt(mean_squared_error(y_train, model.predict(X_train))))\n",
    "        temp_test.append(np.sqrt(mean_squared_error(y_test, model.predict(X_test))))\n",
    "    U_train.append(temp_train)\n",
    "    U_test.append(temp_test)     "
   ]
  },
  {
   "cell_type": "code",
   "execution_count": 45,
   "metadata": {},
   "outputs": [
    {
     "name": "stdout",
     "output_type": "stream",
     "text": [
      "rmse: [57.75923651 58.18550684 58.5203161  59.27941407 60.45393264]\n",
      "rmse(std): [0.23362846 0.14298754 0.13377357 0.17444672 0.1835663 ]\n"
     ]
    }
   ],
   "source": [
    "print(\"rmse: \" + str(np.mean(U_test, axis = 1)))\n",
    "print(\"rmse(std): \" + str(np.std(U_test, axis = 1)))"
   ]
  },
  {
   "cell_type": "code",
   "execution_count": 46,
   "metadata": {},
   "outputs": [],
   "source": [
    "V_train = []\n",
    "V_test = []\n",
    "\n",
    "for sub in per_sub:\n",
    "    temp_train = []\n",
    "    temp_test = []\n",
    "    for r in range(rep):\n",
    "        model = RandomForestRegressor(n_estimators = 1000, max_features = int(p / 3))\n",
    "        model.fit(X_train, y_train, n_subsamples = int(n * sub), replace = True)\n",
    "        temp_train.append(np.sqrt(mean_squared_error(y_train, model.predict(X_train))))\n",
    "        temp_test.append(np.sqrt(mean_squared_error(y_test, model.predict(X_test))))\n",
    "    V_train.append(temp_train)\n",
    "    V_test.append(temp_test)     "
   ]
  },
  {
   "cell_type": "code",
   "execution_count": 47,
   "metadata": {},
   "outputs": [
    {
     "name": "stdout",
     "output_type": "stream",
     "text": [
      "rmse: [57.84458898 57.86603073 58.11932221 58.29753007 58.55260714]\n",
      "rmse(std): [0.22015819 0.22862289 0.24571964 0.18096767 0.19775603]\n"
     ]
    }
   ],
   "source": [
    "print(\"rmse: \" + str(np.mean(V_test, axis = 1)))\n",
    "print(\"rmse(std): \" + str(np.std(V_test, axis = 1)))"
   ]
  },
  {
   "cell_type": "code",
   "execution_count": null,
   "metadata": {},
   "outputs": [],
   "source": []
  },
  {
   "cell_type": "markdown",
   "metadata": {},
   "source": [
    "### digits"
   ]
  },
  {
   "cell_type": "code",
   "execution_count": 17,
   "metadata": {},
   "outputs": [
    {
     "name": "stdout",
     "output_type": "stream",
     "text": [
      "(1797, 64)\n"
     ]
    }
   ],
   "source": [
    "from sklearn.datasets import load_digits\n",
    "digits = load_digits(return_X_y = False)\n",
    "\n",
    "print(digits['data'].shape)\n",
    "\n",
    "X_train, X_test, y_train, y_test = train_test_split(digits['data'], digits['target'], test_size = 0.2)\n",
    "\n",
    "per_sub = [0.2, 0.4, 0.6, 0.8, 1.0]\n",
    "rep = 20\n",
    "n = len(X_train)\n",
    "p = len(X_train[0])"
   ]
  },
  {
   "cell_type": "code",
   "execution_count": 18,
   "metadata": {},
   "outputs": [],
   "source": [
    "U_train = []\n",
    "U_test = []\n",
    "\n",
    "for sub in per_sub:\n",
    "    temp_train = []\n",
    "    temp_test = []\n",
    "    for r in range(rep):\n",
    "        model = RandomForestClassifier(n_estimators = 1000)\n",
    "        model.fit(X_train, y_train, n_subsamples = int(n * sub), replace = False)\n",
    "        temp_train.append(accuracy_score(y_train, model.predict(X_train)))\n",
    "        temp_test.append(accuracy_score(y_test, model.predict(X_test)))\n",
    "    U_train.append(temp_train)\n",
    "    U_test.append(temp_test)     "
   ]
  },
  {
   "cell_type": "code",
   "execution_count": 19,
   "metadata": {},
   "outputs": [
    {
     "name": "stdout",
     "output_type": "stream",
     "text": [
      "accuracy: [0.97972222 0.98583333 0.98583333 0.98569444 0.98638889]\n",
      "accuracy(std): [0.00341339 0.0023074  0.00213365 0.00099187 0.00121081]\n"
     ]
    }
   ],
   "source": [
    "print(\"accuracy: \" + str(np.mean(U_test, axis = 1)))\n",
    "print(\"accuracy(std): \" + str(np.std(U_test, axis = 1)))"
   ]
  },
  {
   "cell_type": "code",
   "execution_count": 20,
   "metadata": {},
   "outputs": [],
   "source": [
    "V_train = []\n",
    "V_test = []\n",
    "\n",
    "for sub in per_sub:\n",
    "    temp_train = []\n",
    "    temp_test = []\n",
    "    for r in range(rep):\n",
    "        model = RandomForestClassifier(n_estimators = 1000)\n",
    "        model.fit(X_train, y_train, n_subsamples = int(n * sub), replace = True)\n",
    "        temp_train.append(accuracy_score(y_train, model.predict(X_train)))\n",
    "        temp_test.append(accuracy_score(y_test, model.predict(X_test)))\n",
    "    V_train.append(temp_train)\n",
    "    V_test.append(temp_test)     "
   ]
  },
  {
   "cell_type": "code",
   "execution_count": 21,
   "metadata": {},
   "outputs": [
    {
     "name": "stdout",
     "output_type": "stream",
     "text": [
      "rmse: [0.97930556 0.98458333 0.98777778 0.98722222 0.98680556]\n",
      "rmse(std): [0.00356542 0.00284298 0.00269316 0.00184257 0.00172915]\n"
     ]
    }
   ],
   "source": [
    "print(\"rmse: \" + str(np.mean(V_test, axis = 1)))\n",
    "print(\"rmse(std): \" + str(np.std(V_test, axis = 1)))"
   ]
  },
  {
   "cell_type": "code",
   "execution_count": null,
   "metadata": {},
   "outputs": [],
   "source": []
  },
  {
   "cell_type": "markdown",
   "metadata": {},
   "source": [
    "### wine"
   ]
  },
  {
   "cell_type": "code",
   "execution_count": 22,
   "metadata": {},
   "outputs": [
    {
     "name": "stdout",
     "output_type": "stream",
     "text": [
      "(178, 13)\n"
     ]
    }
   ],
   "source": [
    "from sklearn.datasets import load_wine\n",
    "wine = load_wine(return_X_y = False)\n",
    "\n",
    "print(wine['data'].shape)\n",
    "\n",
    "X_train, X_test, y_train, y_test = train_test_split(wine['data'], wine['target'], test_size = 0.2)\n",
    "\n",
    "per_sub = [0.2, 0.4, 0.6, 0.8, 1.0]\n",
    "rep = 20\n",
    "n = len(X_train)\n",
    "p = len(X_train[0])"
   ]
  },
  {
   "cell_type": "code",
   "execution_count": 23,
   "metadata": {},
   "outputs": [],
   "source": [
    "U_train = []\n",
    "U_test = []\n",
    "\n",
    "for sub in per_sub:\n",
    "    temp_train = []\n",
    "    temp_test = []\n",
    "    for r in range(rep):\n",
    "        model = RandomForestClassifier(n_estimators = 1000)\n",
    "        model.fit(X_train, y_train, n_subsamples = int(n * sub), replace = False)\n",
    "        temp_train.append(accuracy_score(y_train, model.predict(X_train)))\n",
    "        temp_test.append(accuracy_score(y_test, model.predict(X_test)))\n",
    "    U_train.append(temp_train)\n",
    "    U_test.append(temp_test)     "
   ]
  },
  {
   "cell_type": "code",
   "execution_count": 24,
   "metadata": {},
   "outputs": [
    {
     "name": "stdout",
     "output_type": "stream",
     "text": [
      "accuracy: [0.99027778 1.         1.         1.         1.        ]\n",
      "accuracy(std): [0.01324916 0.         0.         0.         0.        ]\n"
     ]
    }
   ],
   "source": [
    "print(\"accuracy: \" + str(np.mean(U_test, axis = 1)))\n",
    "print(\"accuracy(std): \" + str(np.std(U_test, axis = 1)))"
   ]
  },
  {
   "cell_type": "code",
   "execution_count": 25,
   "metadata": {},
   "outputs": [],
   "source": [
    "V_train = []\n",
    "V_test = []\n",
    "\n",
    "for sub in per_sub:\n",
    "    temp_train = []\n",
    "    temp_test = []\n",
    "    for r in range(rep):\n",
    "        model = RandomForestClassifier(n_estimators = 1000)\n",
    "        model.fit(X_train, y_train, n_subsamples = int(n * sub), replace = True)\n",
    "        temp_train.append(accuracy_score(y_train, model.predict(X_train)))\n",
    "        temp_test.append(accuracy_score(y_test, model.predict(X_test)))\n",
    "    V_train.append(temp_train)\n",
    "    V_test.append(temp_test)     "
   ]
  },
  {
   "cell_type": "code",
   "execution_count": 26,
   "metadata": {},
   "outputs": [
    {
     "name": "stdout",
     "output_type": "stream",
     "text": [
      "rmse: [0.98611111 1.         1.         1.         1.        ]\n",
      "rmse(std): [0.01388889 0.         0.         0.         0.        ]\n"
     ]
    }
   ],
   "source": [
    "print(\"rmse: \" + str(np.mean(V_test, axis = 1)))\n",
    "print(\"rmse(std): \" + str(np.std(V_test, axis = 1)))"
   ]
  },
  {
   "cell_type": "code",
   "execution_count": null,
   "metadata": {},
   "outputs": [],
   "source": []
  },
  {
   "cell_type": "markdown",
   "metadata": {},
   "source": [
    "### breast_cancer"
   ]
  },
  {
   "cell_type": "code",
   "execution_count": 27,
   "metadata": {},
   "outputs": [
    {
     "name": "stdout",
     "output_type": "stream",
     "text": [
      "(569, 30)\n"
     ]
    }
   ],
   "source": [
    "from sklearn.datasets import load_breast_cancer\n",
    "breast_cancer = load_breast_cancer(return_X_y = False)\n",
    "\n",
    "print(breast_cancer['data'].shape)\n",
    "\n",
    "X_train, X_test, y_train, y_test = train_test_split(breast_cancer['data'], breast_cancer['target'], test_size = 0.2)\n",
    "\n",
    "per_sub = [0.2, 0.4, 0.6, 0.8, 1.0]\n",
    "rep = 20\n",
    "n = len(X_train)\n",
    "p = len(X_train[0])"
   ]
  },
  {
   "cell_type": "code",
   "execution_count": 28,
   "metadata": {},
   "outputs": [],
   "source": [
    "U_train = []\n",
    "U_test = []\n",
    "\n",
    "for sub in per_sub:\n",
    "    temp_train = []\n",
    "    temp_test = []\n",
    "    for r in range(rep):\n",
    "        model = RandomForestClassifier(n_estimators = 1000)\n",
    "        model.fit(X_train, y_train, n_subsamples = int(n * sub), replace = False)\n",
    "        temp_train.append(accuracy_score(y_train, model.predict(X_train)))\n",
    "        temp_test.append(accuracy_score(y_test, model.predict(X_test)))\n",
    "    U_train.append(temp_train)\n",
    "    U_test.append(temp_test)     "
   ]
  },
  {
   "cell_type": "code",
   "execution_count": 29,
   "metadata": {},
   "outputs": [
    {
     "name": "stdout",
     "output_type": "stream",
     "text": [
      "accuracy: [0.90526316 0.91491228 0.92017544 0.92105263 0.92105263]\n",
      "accuracy(std): [3.50877193e-03 4.01980324e-03 2.63157895e-03 1.11022302e-16\n",
      " 1.11022302e-16]\n"
     ]
    }
   ],
   "source": [
    "print(\"accuracy: \" + str(np.mean(U_test, axis = 1)))\n",
    "print(\"accuracy(std): \" + str(np.std(U_test, axis = 1)))"
   ]
  },
  {
   "cell_type": "code",
   "execution_count": 30,
   "metadata": {},
   "outputs": [],
   "source": [
    "V_train = []\n",
    "V_test = []\n",
    "\n",
    "for sub in per_sub:\n",
    "    temp_train = []\n",
    "    temp_test = []\n",
    "    for r in range(rep):\n",
    "        model = RandomForestClassifier(n_estimators = 1000)\n",
    "        model.fit(X_train, y_train, n_subsamples = int(n * sub), replace = True)\n",
    "        temp_train.append(accuracy_score(y_train, model.predict(X_train)))\n",
    "        temp_test.append(accuracy_score(y_test, model.predict(X_test)))\n",
    "    V_train.append(temp_train)\n",
    "    V_test.append(temp_test)     "
   ]
  },
  {
   "cell_type": "code",
   "execution_count": 31,
   "metadata": {},
   "outputs": [
    {
     "name": "stdout",
     "output_type": "stream",
     "text": [
      "rmse: [0.90482456 0.9127193  0.91754386 0.92061404 0.92105263]\n",
      "rmse(std): [3.13220545e-03 5.86802112e-03 4.29735043e-03 1.91179778e-03\n",
      " 1.11022302e-16]\n"
     ]
    }
   ],
   "source": [
    "print(\"rmse: \" + str(np.mean(V_test, axis = 1)))\n",
    "print(\"rmse(std): \" + str(np.std(V_test, axis = 1)))"
   ]
  },
  {
   "cell_type": "code",
   "execution_count": null,
   "metadata": {},
   "outputs": [],
   "source": []
  },
  {
   "cell_type": "markdown",
   "metadata": {},
   "source": [
    "### MARS"
   ]
  },
  {
   "cell_type": "code",
   "execution_count": 32,
   "metadata": {},
   "outputs": [],
   "source": [
    "n = 500\n",
    "p = 5\n",
    "\n",
    "x1 = np.random.uniform(size = n).reshape((n, 1))\n",
    "x2 = np.random.uniform(size = n).reshape((n, 1))\n",
    "x3 = np.random.uniform(size = n).reshape((n, 1))\n",
    "x4 = np.random.uniform(size = n).reshape((n, 1))\n",
    "x5 = np.random.uniform(size = n).reshape((n, 1))\n",
    "\n",
    "X = np.concatenate((x1, x2, x3, x4, x5), axis = 1)\n",
    "\n",
    "epi = np.random.randn(n).reshape((n, 1))\n",
    "\n",
    "y = 10 * np.sin(np.pi * x1 * x2) + 20 * (x3 - 0.05) ** 2 + 10 * x4 + 5 * x5 + epi\n",
    "\n",
    "y = y.ravel()\n",
    "\n",
    "X_train, X_test, y_train, y_test = train_test_split(X, y, test_size = 0.2)"
   ]
  },
  {
   "cell_type": "code",
   "execution_count": 33,
   "metadata": {},
   "outputs": [],
   "source": [
    "n = len(X_train)\n",
    "\n",
    "U_train = []\n",
    "U_test = []\n",
    "\n",
    "for sub in per_sub:\n",
    "    temp_train = []\n",
    "    temp_test = []\n",
    "    for r in range(rep):\n",
    "        model = RandomForestRegressor(n_estimators = 1000, max_features = int(p / 3))\n",
    "        model.fit(X_train, y_train, n_subsamples = int(n * sub), replace = False)\n",
    "        temp_train.append(np.sqrt(mean_squared_error(y_train, model.predict(X_train))))\n",
    "        temp_test.append(np.sqrt(mean_squared_error(y_test, model.predict(X_test))))\n",
    "    U_train.append(temp_train)\n",
    "    U_test.append(temp_test)     "
   ]
  },
  {
   "cell_type": "code",
   "execution_count": 34,
   "metadata": {},
   "outputs": [
    {
     "name": "stdout",
     "output_type": "stream",
     "text": [
      "rmse: [3.57631649 3.20179854 3.03881853 2.95546187 2.88709151]\n",
      "rmse(std): [0.02392903 0.01549854 0.0226086  0.01711153 0.02261666]\n"
     ]
    }
   ],
   "source": [
    "print(\"rmse: \" + str(np.mean(U_test, axis = 1)))\n",
    "print(\"rmse(std): \" + str(np.std(U_test, axis = 1)))"
   ]
  },
  {
   "cell_type": "code",
   "execution_count": 35,
   "metadata": {},
   "outputs": [],
   "source": [
    "V_train = []\n",
    "V_test = []\n",
    "\n",
    "for sub in per_sub:\n",
    "    temp_train = []\n",
    "    temp_test = []\n",
    "    for r in range(rep):\n",
    "        model = RandomForestRegressor(n_estimators = 1000, max_features = int(p / 3))\n",
    "        model.fit(X_train, y_train, n_subsamples = int(n * sub), replace = True)\n",
    "        temp_train.append(np.sqrt(mean_squared_error(y_train, model.predict(X_train))))\n",
    "        temp_test.append(np.sqrt(mean_squared_error(y_test, model.predict(X_test))))\n",
    "    V_train.append(temp_train)\n",
    "    V_test.append(temp_test)     "
   ]
  },
  {
   "cell_type": "code",
   "execution_count": 36,
   "metadata": {},
   "outputs": [
    {
     "name": "stdout",
     "output_type": "stream",
     "text": [
      "rmse: [3.64586335 3.28988604 3.14626511 3.05661836 3.00304705]\n",
      "rmse(std): [0.03339017 0.02895019 0.0240158  0.02400367 0.01431407]\n"
     ]
    }
   ],
   "source": [
    "print(\"rmse: \" + str(np.mean(V_test, axis = 1)))\n",
    "print(\"rmse(std): \" + str(np.std(V_test, axis = 1)))"
   ]
  },
  {
   "cell_type": "code",
   "execution_count": null,
   "metadata": {},
   "outputs": [],
   "source": []
  },
  {
   "cell_type": "markdown",
   "metadata": {},
   "source": [
    "### Retinopathy"
   ]
  },
  {
   "cell_type": "code",
   "execution_count": 37,
   "metadata": {},
   "outputs": [
    {
     "name": "stdout",
     "output_type": "stream",
     "text": [
      "(1151, 19)\n"
     ]
    }
   ],
   "source": [
    "data = pd.read_csv(\"messidor_features.data\", header = None)\n",
    "y = data[19].values\n",
    "X = data[range(19)].values\n",
    "print(X.shape)"
   ]
  },
  {
   "cell_type": "code",
   "execution_count": 38,
   "metadata": {},
   "outputs": [],
   "source": [
    "X_train, X_test, y_train, y_test = train_test_split(X, y, test_size = 0.2)\n",
    "\n",
    "per_sub = [0.2, 0.4, 0.6, 0.8, 1.0]\n",
    "rep = 20\n",
    "n = len(X_train)\n",
    "p = len(X_train[0])"
   ]
  },
  {
   "cell_type": "code",
   "execution_count": 39,
   "metadata": {},
   "outputs": [],
   "source": [
    "U_train = []\n",
    "U_test = []\n",
    "\n",
    "for sub in per_sub:\n",
    "    temp_train = []\n",
    "    temp_test = []\n",
    "    for r in range(rep):\n",
    "        model = RandomForestClassifier(n_estimators = 1000)\n",
    "        model.fit(X_train, y_train, n_subsamples = int(n * sub), replace = False)\n",
    "        temp_train.append(accuracy_score(y_train, model.predict(X_train)))\n",
    "        temp_test.append(accuracy_score(y_test, model.predict(X_test)))\n",
    "    U_train.append(temp_train)\n",
    "    U_test.append(temp_test)     "
   ]
  },
  {
   "cell_type": "code",
   "execution_count": 40,
   "metadata": {},
   "outputs": [
    {
     "name": "stdout",
     "output_type": "stream",
     "text": [
      "accuracy: [0.66341991 0.67922078 0.68701299 0.68528139 0.69372294]\n",
      "accuracy(std): [0.0065474  0.00773185 0.00787593 0.00566091 0.00906769]\n"
     ]
    }
   ],
   "source": [
    "print(\"accuracy: \" + str(np.mean(U_test, axis = 1)))\n",
    "print(\"accuracy(std): \" + str(np.std(U_test, axis = 1)))"
   ]
  },
  {
   "cell_type": "code",
   "execution_count": 41,
   "metadata": {},
   "outputs": [],
   "source": [
    "V_train = []\n",
    "V_test = []\n",
    "\n",
    "for sub in per_sub:\n",
    "    temp_train = []\n",
    "    temp_test = []\n",
    "    for r in range(rep):\n",
    "        model = RandomForestClassifier(n_estimators = 1000)\n",
    "        model.fit(X_train, y_train, n_subsamples = int(n * sub), replace = True)\n",
    "        temp_train.append(accuracy_score(y_train, model.predict(X_train)))\n",
    "        temp_test.append(accuracy_score(y_test, model.predict(X_test)))\n",
    "    V_train.append(temp_train)\n",
    "    V_test.append(temp_test)     "
   ]
  },
  {
   "cell_type": "code",
   "execution_count": 42,
   "metadata": {},
   "outputs": [
    {
     "name": "stdout",
     "output_type": "stream",
     "text": [
      "rmse: [0.66168831 0.67445887 0.68203463 0.68138528 0.68549784]\n",
      "rmse(std): [0.00846926 0.0087227  0.00730499 0.00912178 0.00342922]\n"
     ]
    }
   ],
   "source": [
    "print(\"rmse: \" + str(np.mean(V_test, axis = 1)))\n",
    "print(\"rmse(std): \" + str(np.std(V_test, axis = 1)))"
   ]
  },
  {
   "cell_type": "code",
   "execution_count": null,
   "metadata": {},
   "outputs": [],
   "source": []
  }
 ],
 "metadata": {
  "kernelspec": {
   "display_name": "Python 3",
   "language": "python",
   "name": "python3"
  },
  "language_info": {
   "codemirror_mode": {
    "name": "ipython",
    "version": 3
   },
   "file_extension": ".py",
   "mimetype": "text/x-python",
   "name": "python",
   "nbconvert_exporter": "python",
   "pygments_lexer": "ipython3",
   "version": "3.8.3"
  }
 },
 "nbformat": 4,
 "nbformat_minor": 2
}
