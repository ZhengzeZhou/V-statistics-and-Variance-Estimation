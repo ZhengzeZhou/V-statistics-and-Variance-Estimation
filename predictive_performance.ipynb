{
 "cells": [
  {
   "cell_type": "code",
   "execution_count": 27,
   "metadata": {},
   "outputs": [],
   "source": [
    "import numpy as np\n",
    "from sklearn.ensemble import RandomForestClassifier\n",
    "from sklearn.ensemble import RandomForestRegressor\n",
    "from sklearn.model_selection import train_test_split\n",
    "from sklearn.metrics import mean_squared_error\n",
    "from sklearn.metrics import accuracy_score\n",
    "import pandas as pd"
   ]
  },
  {
   "cell_type": "code",
   "execution_count": null,
   "metadata": {},
   "outputs": [],
   "source": []
  },
  {
   "cell_type": "markdown",
   "metadata": {},
   "source": [
    "### boston"
   ]
  },
  {
   "cell_type": "code",
   "execution_count": 28,
   "metadata": {},
   "outputs": [
    {
     "name": "stdout",
     "output_type": "stream",
     "text": [
      "(506, 13)\n"
     ]
    }
   ],
   "source": [
    "from sklearn.datasets import load_boston\n",
    "boston = load_boston(return_X_y = False)\n",
    "\n",
    "print(boston['data'].shape)\n",
    "\n",
    "X_train, X_test, y_train, y_test = train_test_split(boston['data'], boston['target'], test_size = 0.2)\n",
    "\n",
    "per_sub = [0.2, 0.4, 0.6, 0.8, 1.0]\n",
    "rep = 20\n",
    "n = len(X_train)\n",
    "p = len(X_train[0])"
   ]
  },
  {
   "cell_type": "code",
   "execution_count": 119,
   "metadata": {},
   "outputs": [],
   "source": [
    "U_train = []\n",
    "U_test = []\n",
    "\n",
    "for sub in per_sub:\n",
    "    temp_train = []\n",
    "    temp_test = []\n",
    "    for r in range(rep):\n",
    "        model = RandomForestRegressor(n_estimators = 100, max_features = int(p / 3))\n",
    "        model.fit(X_train, y_train, n_subsamples = int(n * sub), replace = False)\n",
    "        temp_train.append(np.sqrt(mean_squared_error(y_train, model.predict(X_train))))\n",
    "        temp_test.append(np.sqrt(mean_squared_error(y_test, model.predict(X_test))))\n",
    "    U_train.append(temp_train)\n",
    "    U_test.append(temp_test)     "
   ]
  },
  {
   "cell_type": "code",
   "execution_count": 120,
   "metadata": {},
   "outputs": [
    {
     "name": "stdout",
     "output_type": "stream",
     "text": [
      "rmse: [3.96961079 3.57541841 3.32254591 3.21026343 3.05876659]\n",
      "rmse(std): [0.11123226 0.07883159 0.11311473 0.10497909 0.07870243]\n"
     ]
    }
   ],
   "source": [
    "print(\"rmse: \" + str(np.mean(U_test, axis = 1)))\n",
    "print(\"rmse(std): \" + str(np.std(U_test, axis = 1)))"
   ]
  },
  {
   "cell_type": "code",
   "execution_count": 121,
   "metadata": {},
   "outputs": [],
   "source": [
    "V_train = []\n",
    "V_test = []\n",
    "\n",
    "for sub in per_sub:\n",
    "    temp_train = []\n",
    "    temp_test = []\n",
    "    for r in range(rep):\n",
    "        model = RandomForestRegressor(n_estimators = 100, max_features = int(p / 3))\n",
    "        model.fit(X_train, y_train, n_subsamples = int(n * sub), replace = True)\n",
    "        temp_train.append(np.sqrt(mean_squared_error(y_train, model.predict(X_train))))\n",
    "        temp_test.append(np.sqrt(mean_squared_error(y_test, model.predict(X_test))))\n",
    "    V_train.append(temp_train)\n",
    "    V_test.append(temp_test)     "
   ]
  },
  {
   "cell_type": "code",
   "execution_count": 122,
   "metadata": {},
   "outputs": [
    {
     "name": "stdout",
     "output_type": "stream",
     "text": [
      "rmse: [4.03583206 3.67994177 3.47046104 3.37382652 3.29436911]\n",
      "rmse(std): [0.06563793 0.07579034 0.09356659 0.1056693  0.08871229]\n"
     ]
    }
   ],
   "source": [
    "print(\"rmse: \" + str(np.mean(V_test, axis = 1)))\n",
    "print(\"rmse(std): \" + str(np.std(V_test, axis = 1)))"
   ]
  },
  {
   "cell_type": "code",
   "execution_count": null,
   "metadata": {},
   "outputs": [],
   "source": []
  },
  {
   "cell_type": "markdown",
   "metadata": {},
   "source": [
    "### iris"
   ]
  },
  {
   "cell_type": "code",
   "execution_count": 197,
   "metadata": {},
   "outputs": [
    {
     "name": "stdout",
     "output_type": "stream",
     "text": [
      "(150, 4)\n"
     ]
    }
   ],
   "source": [
    "from sklearn.datasets import load_iris\n",
    "iris = load_iris(return_X_y = False)\n",
    "\n",
    "print(iris['data'].shape)\n",
    "\n",
    "X_train, X_test, y_train, y_test = train_test_split(iris['data'], iris['target'], test_size = 0.2)\n",
    "\n",
    "per_sub = [0.2, 0.4, 0.6, 0.8, 1.0]\n",
    "rep = 20\n",
    "n = len(X_train)\n",
    "p = len(X_train[0])"
   ]
  },
  {
   "cell_type": "code",
   "execution_count": 198,
   "metadata": {},
   "outputs": [],
   "source": [
    "U_train = []\n",
    "U_test = []\n",
    "\n",
    "for sub in per_sub:\n",
    "    temp_train = []\n",
    "    temp_test = []\n",
    "    for r in range(rep):\n",
    "        model = RandomForestClassifier(n_estimators = 100)\n",
    "        model.fit(X_train, y_train, n_subsamples = int(n * sub), replace = False)\n",
    "        temp_train.append(accuracy_score(y_train, model.predict(X_train)))\n",
    "        temp_test.append(accuracy_score(y_test, model.predict(X_test)))\n",
    "    U_train.append(temp_train)\n",
    "    U_test.append(temp_test)     "
   ]
  },
  {
   "cell_type": "code",
   "execution_count": 199,
   "metadata": {},
   "outputs": [
    {
     "name": "stdout",
     "output_type": "stream",
     "text": [
      "accuracy: [0.96666667 0.96666667 0.96333333 0.95       0.93333333]\n",
      "accuracy(std): [2.22044605e-16 2.22044605e-16 1.00000000e-02 1.66666667e-02\n",
      " 0.00000000e+00]\n"
     ]
    }
   ],
   "source": [
    "print(\"accuracy: \" + str(np.mean(U_test, axis = 1)))\n",
    "print(\"accuracy(std): \" + str(np.std(U_test, axis = 1)))"
   ]
  },
  {
   "cell_type": "code",
   "execution_count": 200,
   "metadata": {},
   "outputs": [],
   "source": [
    "V_train = []\n",
    "V_test = []\n",
    "\n",
    "for sub in per_sub:\n",
    "    temp_train = []\n",
    "    temp_test = []\n",
    "    for r in range(rep):\n",
    "        model = RandomForestClassifier(n_estimators = 100)\n",
    "        model.fit(X_train, y_train, n_subsamples = int(n * sub), replace = True)\n",
    "        temp_train.append(accuracy_score(y_train, model.predict(X_train)))\n",
    "        temp_test.append(accuracy_score(y_test, model.predict(X_test)))\n",
    "    V_train.append(temp_train)\n",
    "    V_test.append(temp_test)     "
   ]
  },
  {
   "cell_type": "code",
   "execution_count": 201,
   "metadata": {},
   "outputs": [
    {
     "name": "stdout",
     "output_type": "stream",
     "text": [
      "accuracy: [0.965      0.96666667 0.96166667 0.96666667 0.96333333]\n",
      "accuracy(std): [7.26483157e-03 2.22044605e-16 1.19023807e-02 2.22044605e-16\n",
      " 1.00000000e-02]\n"
     ]
    }
   ],
   "source": [
    "print(\"accuracy: \" + str(np.mean(V_test, axis = 1)))\n",
    "print(\"accuracy(std): \" + str(np.std(V_test, axis = 1)))"
   ]
  },
  {
   "cell_type": "code",
   "execution_count": null,
   "metadata": {},
   "outputs": [],
   "source": []
  },
  {
   "cell_type": "markdown",
   "metadata": {},
   "source": [
    "### diabetes"
   ]
  },
  {
   "cell_type": "code",
   "execution_count": 38,
   "metadata": {},
   "outputs": [
    {
     "name": "stdout",
     "output_type": "stream",
     "text": [
      "(442, 10)\n"
     ]
    }
   ],
   "source": [
    "from sklearn.datasets import load_diabetes\n",
    "diabetes = load_diabetes(return_X_y = False)\n",
    "\n",
    "print(diabetes['data'].shape)\n",
    "\n",
    "X_train, X_test, y_train, y_test = train_test_split(diabetes['data'], diabetes['target'], test_size = 0.2)\n",
    "\n",
    "per_sub = [0.2, 0.4, 0.6, 0.8, 1.0]\n",
    "rep = 20\n",
    "n = len(X_train)\n",
    "p = len(X_train[0])"
   ]
  },
  {
   "cell_type": "code",
   "execution_count": 129,
   "metadata": {},
   "outputs": [],
   "source": [
    "U_train = []\n",
    "U_test = []\n",
    "\n",
    "for sub in per_sub:\n",
    "    temp_train = []\n",
    "    temp_test = []\n",
    "    for r in range(rep):\n",
    "        model = RandomForestRegressor(n_estimators = 100, max_features = int(p / 3))\n",
    "        model.fit(X_train, y_train, n_subsamples = int(n * sub), replace = False)\n",
    "        temp_train.append(np.sqrt(mean_squared_error(y_train, model.predict(X_train))))\n",
    "        temp_test.append(np.sqrt(mean_squared_error(y_test, model.predict(X_test))))\n",
    "    U_train.append(temp_train)\n",
    "    U_test.append(temp_test)     "
   ]
  },
  {
   "cell_type": "code",
   "execution_count": 130,
   "metadata": {},
   "outputs": [
    {
     "name": "stdout",
     "output_type": "stream",
     "text": [
      "rmse: [54.61365047 54.6289104  55.51395925 56.90173789 58.74941694]\n",
      "rmse(std): [0.69364211 0.51640017 0.60971521 0.56813848 0.81870382]\n"
     ]
    }
   ],
   "source": [
    "print(\"rmse: \" + str(np.mean(U_test, axis = 1)))\n",
    "print(\"rmse(std): \" + str(np.std(U_test, axis = 1)))"
   ]
  },
  {
   "cell_type": "code",
   "execution_count": 131,
   "metadata": {},
   "outputs": [],
   "source": [
    "V_train = []\n",
    "V_test = []\n",
    "\n",
    "for sub in per_sub:\n",
    "    temp_train = []\n",
    "    temp_test = []\n",
    "    for r in range(rep):\n",
    "        model = RandomForestRegressor(n_estimators = 100, max_features = int(p / 3))\n",
    "        model.fit(X_train, y_train, n_subsamples = int(n * sub), replace = True)\n",
    "        temp_train.append(np.sqrt(mean_squared_error(y_train, model.predict(X_train))))\n",
    "        temp_test.append(np.sqrt(mean_squared_error(y_test, model.predict(X_test))))\n",
    "    V_train.append(temp_train)\n",
    "    V_test.append(temp_test)     "
   ]
  },
  {
   "cell_type": "code",
   "execution_count": 132,
   "metadata": {},
   "outputs": [
    {
     "name": "stdout",
     "output_type": "stream",
     "text": [
      "rmse: [54.38298276 54.42818446 54.52198443 55.07816249 55.41301178]\n",
      "rmse(std): [0.70996321 0.63472758 0.77394448 0.56420299 0.8876921 ]\n"
     ]
    }
   ],
   "source": [
    "print(\"rmse: \" + str(np.mean(V_test, axis = 1)))\n",
    "print(\"rmse(std): \" + str(np.std(V_test, axis = 1)))"
   ]
  },
  {
   "cell_type": "code",
   "execution_count": null,
   "metadata": {},
   "outputs": [],
   "source": []
  },
  {
   "cell_type": "markdown",
   "metadata": {},
   "source": [
    "### digits"
   ]
  },
  {
   "cell_type": "code",
   "execution_count": 158,
   "metadata": {},
   "outputs": [
    {
     "name": "stdout",
     "output_type": "stream",
     "text": [
      "(1797, 64)\n"
     ]
    }
   ],
   "source": [
    "from sklearn.datasets import load_digits\n",
    "digits = load_digits(return_X_y = False)\n",
    "\n",
    "print(digits['data'].shape)\n",
    "\n",
    "X_train, X_test, y_train, y_test = train_test_split(digits['data'], digits['target'], test_size = 0.2)\n",
    "\n",
    "per_sub = [0.2, 0.4, 0.6, 0.8, 1.0]\n",
    "rep = 20\n",
    "n = len(X_train)\n",
    "p = len(X_train[0])"
   ]
  },
  {
   "cell_type": "code",
   "execution_count": 159,
   "metadata": {},
   "outputs": [],
   "source": [
    "U_train = []\n",
    "U_test = []\n",
    "\n",
    "for sub in per_sub:\n",
    "    temp_train = []\n",
    "    temp_test = []\n",
    "    for r in range(rep):\n",
    "        model = RandomForestClassifier(n_estimators = 100)\n",
    "        model.fit(X_train, y_train, n_subsamples = int(n * sub), replace = False)\n",
    "        temp_train.append(accuracy_score(y_train, model.predict(X_train)))\n",
    "        temp_test.append(accuracy_score(y_test, model.predict(X_test)))\n",
    "    U_train.append(temp_train)\n",
    "    U_test.append(temp_test)     "
   ]
  },
  {
   "cell_type": "code",
   "execution_count": 160,
   "metadata": {},
   "outputs": [
    {
     "name": "stdout",
     "output_type": "stream",
     "text": [
      "accuracy: [0.95069444 0.96597222 0.96875    0.97347222 0.97305556]\n",
      "accuracy(std): [0.00533413 0.00338786 0.00429209 0.00476897 0.00448764]\n"
     ]
    }
   ],
   "source": [
    "print(\"accuracy: \" + str(np.mean(U_test, axis = 1)))\n",
    "print(\"accuracy(std): \" + str(np.std(U_test, axis = 1)))"
   ]
  },
  {
   "cell_type": "code",
   "execution_count": 161,
   "metadata": {},
   "outputs": [],
   "source": [
    "V_train = []\n",
    "V_test = []\n",
    "\n",
    "for sub in per_sub:\n",
    "    temp_train = []\n",
    "    temp_test = []\n",
    "    for r in range(rep):\n",
    "        model = RandomForestClassifier(n_estimators = 100)\n",
    "        model.fit(X_train, y_train, n_subsamples = int(n * sub), replace = True)\n",
    "        temp_train.append(accuracy_score(y_train, model.predict(X_train)))\n",
    "        temp_test.append(accuracy_score(y_test, model.predict(X_test)))\n",
    "    V_train.append(temp_train)\n",
    "    V_test.append(temp_test)     "
   ]
  },
  {
   "cell_type": "code",
   "execution_count": 162,
   "metadata": {},
   "outputs": [
    {
     "name": "stdout",
     "output_type": "stream",
     "text": [
      "rmse: [0.94805556 0.95875    0.96513889 0.96805556 0.96888889]\n",
      "rmse(std): [0.00535038 0.00577851 0.00492811 0.00477099 0.00357892]\n"
     ]
    }
   ],
   "source": [
    "print(\"rmse: \" + str(np.mean(V_test, axis = 1)))\n",
    "print(\"rmse(std): \" + str(np.std(V_test, axis = 1)))"
   ]
  },
  {
   "cell_type": "code",
   "execution_count": null,
   "metadata": {},
   "outputs": [],
   "source": []
  },
  {
   "cell_type": "markdown",
   "metadata": {},
   "source": [
    "### wine"
   ]
  },
  {
   "cell_type": "code",
   "execution_count": 167,
   "metadata": {},
   "outputs": [
    {
     "name": "stdout",
     "output_type": "stream",
     "text": [
      "(178, 13)\n"
     ]
    }
   ],
   "source": [
    "from sklearn.datasets import load_wine\n",
    "wine = load_wine(return_X_y = False)\n",
    "\n",
    "print(wine['data'].shape)\n",
    "\n",
    "X_train, X_test, y_train, y_test = train_test_split(wine['data'], wine['target'], test_size = 0.2)\n",
    "\n",
    "per_sub = [0.2, 0.4, 0.6, 0.8, 1.0]\n",
    "rep = 20\n",
    "n = len(X_train)\n",
    "p = len(X_train[0])"
   ]
  },
  {
   "cell_type": "code",
   "execution_count": 170,
   "metadata": {},
   "outputs": [],
   "source": [
    "U_train = []\n",
    "U_test = []\n",
    "\n",
    "for sub in per_sub:\n",
    "    temp_train = []\n",
    "    temp_test = []\n",
    "    for r in range(rep):\n",
    "        model = RandomForestClassifier(n_estimators = 100)\n",
    "        model.fit(X_train, y_train, n_subsamples = int(n * sub), replace = False)\n",
    "        temp_train.append(accuracy_score(y_train, model.predict(X_train)))\n",
    "        temp_test.append(accuracy_score(y_test, model.predict(X_test)))\n",
    "    U_train.append(temp_train)\n",
    "    U_test.append(temp_test)     "
   ]
  },
  {
   "cell_type": "code",
   "execution_count": 171,
   "metadata": {},
   "outputs": [
    {
     "name": "stdout",
     "output_type": "stream",
     "text": [
      "accuracy: [0.96527778 0.99722222 1.         1.         1.        ]\n",
      "accuracy(std): [0.02129126 0.00833333 0.         0.         0.        ]\n"
     ]
    }
   ],
   "source": [
    "print(\"accuracy: \" + str(np.mean(U_test, axis = 1)))\n",
    "print(\"accuracy(std): \" + str(np.std(U_test, axis = 1)))"
   ]
  },
  {
   "cell_type": "code",
   "execution_count": 172,
   "metadata": {},
   "outputs": [],
   "source": [
    "V_train = []\n",
    "V_test = []\n",
    "\n",
    "for sub in per_sub:\n",
    "    temp_train = []\n",
    "    temp_test = []\n",
    "    for r in range(rep):\n",
    "        model = RandomForestClassifier(n_estimators = 100)\n",
    "        model.fit(X_train, y_train, n_subsamples = int(n * sub), replace = True)\n",
    "        temp_train.append(accuracy_score(y_train, model.predict(X_train)))\n",
    "        temp_test.append(accuracy_score(y_test, model.predict(X_test)))\n",
    "    V_train.append(temp_train)\n",
    "    V_test.append(temp_test)     "
   ]
  },
  {
   "cell_type": "code",
   "execution_count": 173,
   "metadata": {},
   "outputs": [
    {
     "name": "stdout",
     "output_type": "stream",
     "text": [
      "rmse: [0.97777778 0.99722222 0.99722222 0.99861111 0.99722222]\n",
      "rmse(std): [0.02078699 0.00833333 0.00833333 0.00605403 0.00833333]\n"
     ]
    }
   ],
   "source": [
    "print(\"rmse: \" + str(np.mean(V_test, axis = 1)))\n",
    "print(\"rmse(std): \" + str(np.std(V_test, axis = 1)))"
   ]
  },
  {
   "cell_type": "code",
   "execution_count": null,
   "metadata": {},
   "outputs": [],
   "source": []
  },
  {
   "cell_type": "markdown",
   "metadata": {},
   "source": [
    "### breast_cancer"
   ]
  },
  {
   "cell_type": "code",
   "execution_count": 176,
   "metadata": {},
   "outputs": [
    {
     "name": "stdout",
     "output_type": "stream",
     "text": [
      "(569, 30)\n"
     ]
    }
   ],
   "source": [
    "from sklearn.datasets import load_breast_cancer\n",
    "breast_cancer = load_breast_cancer(return_X_y = False)\n",
    "\n",
    "print(breast_cancer['data'].shape)\n",
    "\n",
    "X_train, X_test, y_train, y_test = train_test_split(breast_cancer['data'], breast_cancer['target'], test_size = 0.2)\n",
    "\n",
    "per_sub = [0.2, 0.4, 0.6, 0.8, 1.0]\n",
    "rep = 20\n",
    "n = len(X_train)\n",
    "p = len(X_train[0])"
   ]
  },
  {
   "cell_type": "code",
   "execution_count": 177,
   "metadata": {},
   "outputs": [],
   "source": [
    "U_train = []\n",
    "U_test = []\n",
    "\n",
    "for sub in per_sub:\n",
    "    temp_train = []\n",
    "    temp_test = []\n",
    "    for r in range(rep):\n",
    "        model = RandomForestClassifier(n_estimators = 100)\n",
    "        model.fit(X_train, y_train, n_subsamples = int(n * sub), replace = False)\n",
    "        temp_train.append(accuracy_score(y_train, model.predict(X_train)))\n",
    "        temp_test.append(accuracy_score(y_test, model.predict(X_test)))\n",
    "    U_train.append(temp_train)\n",
    "    U_test.append(temp_test)     "
   ]
  },
  {
   "cell_type": "code",
   "execution_count": 178,
   "metadata": {},
   "outputs": [
    {
     "name": "stdout",
     "output_type": "stream",
     "text": [
      "accuracy: [0.97719298 0.9745614  0.975      0.97412281 0.9745614 ]\n",
      "accuracy(std): [0.00701754 0.0038236  0.00637098 0.0019118  0.00263158]\n"
     ]
    }
   ],
   "source": [
    "print(\"accuracy: \" + str(np.mean(U_test, axis = 1)))\n",
    "print(\"accuracy(std): \" + str(np.std(U_test, axis = 1)))"
   ]
  },
  {
   "cell_type": "code",
   "execution_count": 179,
   "metadata": {},
   "outputs": [],
   "source": [
    "V_train = []\n",
    "V_test = []\n",
    "\n",
    "for sub in per_sub:\n",
    "    temp_train = []\n",
    "    temp_test = []\n",
    "    for r in range(rep):\n",
    "        model = RandomForestClassifier(n_estimators = 100)\n",
    "        model.fit(X_train, y_train, n_subsamples = int(n * sub), replace = True)\n",
    "        temp_train.append(accuracy_score(y_train, model.predict(X_train)))\n",
    "        temp_test.append(accuracy_score(y_test, model.predict(X_test)))\n",
    "    V_train.append(temp_train)\n",
    "    V_test.append(temp_test)     "
   ]
  },
  {
   "cell_type": "code",
   "execution_count": 180,
   "metadata": {},
   "outputs": [
    {
     "name": "stdout",
     "output_type": "stream",
     "text": [
      "rmse: [0.97412281 0.97368421 0.9745614  0.97587719 0.9754386 ]\n",
      "rmse(std): [0.00705854 0.00392293 0.0038236  0.00470342 0.00350877]\n"
     ]
    }
   ],
   "source": [
    "print(\"rmse: \" + str(np.mean(V_test, axis = 1)))\n",
    "print(\"rmse(std): \" + str(np.std(V_test, axis = 1)))"
   ]
  },
  {
   "cell_type": "code",
   "execution_count": null,
   "metadata": {},
   "outputs": [],
   "source": []
  },
  {
   "cell_type": "markdown",
   "metadata": {},
   "source": [
    "### MARS"
   ]
  },
  {
   "cell_type": "code",
   "execution_count": 192,
   "metadata": {},
   "outputs": [],
   "source": [
    "n = 500\n",
    "p = 5\n",
    "\n",
    "x1 = np.random.uniform(size = n).reshape((n, 1))\n",
    "x2 = np.random.uniform(size = n).reshape((n, 1))\n",
    "x3 = np.random.uniform(size = n).reshape((n, 1))\n",
    "x4 = np.random.uniform(size = n).reshape((n, 1))\n",
    "x5 = np.random.uniform(size = n).reshape((n, 1))\n",
    "\n",
    "X = np.concatenate((x1, x2, x3, x4, x5), axis = 1)\n",
    "\n",
    "epi = np.random.randn(n).reshape((n, 1))\n",
    "\n",
    "y = 10 * np.sin(np.pi * x1 * x2) + 20 * (x3 - 0.05) ** 2 + 10 * x4 + 5 * x5 + epi\n",
    "\n",
    "y = y.ravel()\n",
    "\n",
    "X_train, X_test, y_train, y_test = train_test_split(X, y, test_size = 0.2)"
   ]
  },
  {
   "cell_type": "code",
   "execution_count": 193,
   "metadata": {},
   "outputs": [],
   "source": [
    "n = len(X_train)\n",
    "\n",
    "U_train = []\n",
    "U_test = []\n",
    "\n",
    "for sub in per_sub:\n",
    "    temp_train = []\n",
    "    temp_test = []\n",
    "    for r in range(rep):\n",
    "        model = RandomForestRegressor(n_estimators = 100, max_features = int(p / 3))\n",
    "        model.fit(X_train, y_train, n_subsamples = int(n * sub), replace = False)\n",
    "        temp_train.append(np.sqrt(mean_squared_error(y_train, model.predict(X_train))))\n",
    "        temp_test.append(np.sqrt(mean_squared_error(y_test, model.predict(X_test))))\n",
    "    U_train.append(temp_train)\n",
    "    U_test.append(temp_test)     "
   ]
  },
  {
   "cell_type": "code",
   "execution_count": 194,
   "metadata": {},
   "outputs": [
    {
     "name": "stdout",
     "output_type": "stream",
     "text": [
      "rmse: [3.2105685  2.88504208 2.72109538 2.63288321 2.54646483]\n",
      "rmse(std): [0.06476772 0.09801547 0.0844877  0.04823382 0.04843217]\n"
     ]
    }
   ],
   "source": [
    "print(\"rmse: \" + str(np.mean(U_test, axis = 1)))\n",
    "print(\"rmse(std): \" + str(np.std(U_test, axis = 1)))"
   ]
  },
  {
   "cell_type": "code",
   "execution_count": 195,
   "metadata": {},
   "outputs": [],
   "source": [
    "V_train = []\n",
    "V_test = []\n",
    "\n",
    "for sub in per_sub:\n",
    "    temp_train = []\n",
    "    temp_test = []\n",
    "    for r in range(rep):\n",
    "        model = RandomForestRegressor(n_estimators = 100, max_features = int(p / 3))\n",
    "        model.fit(X_train, y_train, n_subsamples = int(n * sub), replace = True)\n",
    "        temp_train.append(np.sqrt(mean_squared_error(y_train, model.predict(X_train))))\n",
    "        temp_test.append(np.sqrt(mean_squared_error(y_test, model.predict(X_test))))\n",
    "    V_train.append(temp_train)\n",
    "    V_test.append(temp_test)     "
   ]
  },
  {
   "cell_type": "code",
   "execution_count": 196,
   "metadata": {},
   "outputs": [
    {
     "name": "stdout",
     "output_type": "stream",
     "text": [
      "rmse: [3.29075517 2.97063161 2.82012377 2.74983429 2.69654239]\n",
      "rmse(std): [0.10586008 0.06443378 0.06829424 0.05909813 0.04248608]\n"
     ]
    }
   ],
   "source": [
    "print(\"rmse: \" + str(np.mean(V_test, axis = 1)))\n",
    "print(\"rmse(std): \" + str(np.std(V_test, axis = 1)))"
   ]
  },
  {
   "cell_type": "code",
   "execution_count": null,
   "metadata": {},
   "outputs": [],
   "source": []
  },
  {
   "cell_type": "markdown",
   "metadata": {},
   "source": [
    "### Retinopathy"
   ]
  },
  {
   "cell_type": "code",
   "execution_count": 32,
   "metadata": {},
   "outputs": [
    {
     "name": "stdout",
     "output_type": "stream",
     "text": [
      "(1151, 19)\n"
     ]
    }
   ],
   "source": [
    "data = pd.read_csv(\"messidor_features.data\", header = None)\n",
    "y = data[19].values\n",
    "X = data[range(19)].values\n",
    "print(X.shape)"
   ]
  },
  {
   "cell_type": "code",
   "execution_count": 33,
   "metadata": {},
   "outputs": [],
   "source": [
    "X_train, X_test, y_train, y_test = train_test_split(X, y, test_size = 0.2)\n",
    "\n",
    "per_sub = [0.2, 0.4, 0.6, 0.8, 1.0]\n",
    "rep = 20\n",
    "n = len(X_train)\n",
    "p = len(X_train[0])"
   ]
  },
  {
   "cell_type": "code",
   "execution_count": 34,
   "metadata": {},
   "outputs": [],
   "source": [
    "U_train = []\n",
    "U_test = []\n",
    "\n",
    "for sub in per_sub:\n",
    "    temp_train = []\n",
    "    temp_test = []\n",
    "    for r in range(rep):\n",
    "        model = RandomForestClassifier(n_estimators = 100)\n",
    "        model.fit(X_train, y_train, n_subsamples = int(n * sub), replace = False)\n",
    "        temp_train.append(accuracy_score(y_train, model.predict(X_train)))\n",
    "        temp_test.append(accuracy_score(y_test, model.predict(X_test)))\n",
    "    U_train.append(temp_train)\n",
    "    U_test.append(temp_test)     "
   ]
  },
  {
   "cell_type": "code",
   "execution_count": 35,
   "metadata": {},
   "outputs": [
    {
     "name": "stdout",
     "output_type": "stream",
     "text": [
      "accuracy: [0.69350649 0.68246753 0.67662338 0.67077922 0.66558442]\n",
      "accuracy(std): [0.01558442 0.01122832 0.0113796  0.0081536  0.01253731]\n"
     ]
    }
   ],
   "source": [
    "print(\"accuracy: \" + str(np.mean(U_test, axis = 1)))\n",
    "print(\"accuracy(std): \" + str(np.std(U_test, axis = 1)))"
   ]
  },
  {
   "cell_type": "code",
   "execution_count": 36,
   "metadata": {},
   "outputs": [],
   "source": [
    "V_train = []\n",
    "V_test = []\n",
    "\n",
    "for sub in per_sub:\n",
    "    temp_train = []\n",
    "    temp_test = []\n",
    "    for r in range(rep):\n",
    "        model = RandomForestClassifier(n_estimators = 100)\n",
    "        model.fit(X_train, y_train, n_subsamples = int(n * sub), replace = True)\n",
    "        temp_train.append(accuracy_score(y_train, model.predict(X_train)))\n",
    "        temp_test.append(accuracy_score(y_test, model.predict(X_test)))\n",
    "    V_train.append(temp_train)\n",
    "    V_test.append(temp_test)     "
   ]
  },
  {
   "cell_type": "code",
   "execution_count": 37,
   "metadata": {},
   "outputs": [
    {
     "name": "stdout",
     "output_type": "stream",
     "text": [
      "rmse: [0.68917749 0.69458874 0.68679654 0.68463203 0.68203463]\n",
      "rmse(std): [0.01345478 0.01265632 0.01256717 0.0108894  0.01165419]\n"
     ]
    }
   ],
   "source": [
    "print(\"rmse: \" + str(np.mean(V_test, axis = 1)))\n",
    "print(\"rmse(std): \" + str(np.std(V_test, axis = 1)))"
   ]
  },
  {
   "cell_type": "code",
   "execution_count": null,
   "metadata": {},
   "outputs": [],
   "source": []
  }
 ],
 "metadata": {
  "kernelspec": {
   "display_name": "Python 3",
   "language": "python",
   "name": "python3"
  },
  "language_info": {
   "codemirror_mode": {
    "name": "ipython",
    "version": 3
   },
   "file_extension": ".py",
   "mimetype": "text/x-python",
   "name": "python",
   "nbconvert_exporter": "python",
   "pygments_lexer": "ipython3",
   "version": "3.7.3"
  }
 },
 "nbformat": 4,
 "nbformat_minor": 2
}
